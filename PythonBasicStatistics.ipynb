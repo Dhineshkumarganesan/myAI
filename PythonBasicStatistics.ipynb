{
  "nbformat": 4,
  "nbformat_minor": 0,
  "metadata": {
    "kernelspec": {
      "display_name": "Python 3",
      "language": "python",
      "name": "python3"
    },
    "language_info": {
      "codemirror_mode": {
        "name": "ipython",
        "version": 3
      },
      "file_extension": ".py",
      "mimetype": "text/x-python",
      "name": "python",
      "nbconvert_exporter": "python",
      "pygments_lexer": "ipython3",
      "version": "3.6.3"
    },
    "colab": {
      "name": "PythonBasicStatistics.ipynb",
      "provenance": [],
      "collapsed_sections": []
    }
  },
  "cells": [
    {
      "cell_type": "code",
      "metadata": {
        "id": "dHva4GrRwgkV",
        "colab_type": "code",
        "colab": {},
        "outputId": "094c635b-cf0e-4c0a-fd80-0e3ba6f2f1ca"
      },
      "source": [
        "print('\\x1b[1;03;31;44m'+'Load Libraries')\n",
        "import pandas as pd\n",
        "import os"
      ],
      "execution_count": 0,
      "outputs": [
        {
          "output_type": "stream",
          "text": [
            "\u001b[1;03;31;44mLoad Libraries\n"
          ],
          "name": "stdout"
        }
      ]
    },
    {
      "cell_type": "code",
      "metadata": {
        "id": "OdxkcwfKwgkd",
        "colab_type": "code",
        "colab": {},
        "outputId": "fd593bfd-351a-4b99-b47b-0a2e85cb8ed6"
      },
      "source": [
        "pwd"
      ],
      "execution_count": 0,
      "outputs": [
        {
          "output_type": "execute_result",
          "data": {
            "text/plain": [
              "'D:\\\\TEST\\\\Webapp\\\\AIML'"
            ]
          },
          "metadata": {
            "tags": []
          },
          "execution_count": 67
        }
      ]
    },
    {
      "cell_type": "code",
      "metadata": {
        "id": "70_WVQL9wgkg",
        "colab_type": "code",
        "colab": {},
        "outputId": "13559bc9-687d-4694-c153-9659d2f2a502"
      },
      "source": [
        "print('\\x1b[1;03;31;44m'+'Load and Test the CSV file')\n",
        "variable=pd.read_csv(\"D:/Test/Webapp/AIML/diabetes.csv\")\n",
        "variable.head()"
      ],
      "execution_count": 0,
      "outputs": [
        {
          "output_type": "stream",
          "text": [
            "\u001b[1;03;31;44mLoad and Test the CSV file\n"
          ],
          "name": "stdout"
        },
        {
          "output_type": "execute_result",
          "data": {
            "text/html": [
              "<div>\n",
              "<style>\n",
              "    .dataframe thead tr:only-child th {\n",
              "        text-align: right;\n",
              "    }\n",
              "\n",
              "    .dataframe thead th {\n",
              "        text-align: left;\n",
              "    }\n",
              "\n",
              "    .dataframe tbody tr th {\n",
              "        vertical-align: top;\n",
              "    }\n",
              "</style>\n",
              "<table border=\"1\" class=\"dataframe\">\n",
              "  <thead>\n",
              "    <tr style=\"text-align: right;\">\n",
              "      <th></th>\n",
              "      <th>Pregnancies</th>\n",
              "      <th>Glucose</th>\n",
              "      <th>BloodPressure</th>\n",
              "      <th>SkinThickness</th>\n",
              "      <th>Insulin</th>\n",
              "      <th>BMI</th>\n",
              "      <th>DiabetesPedigreeFunction</th>\n",
              "      <th>Age</th>\n",
              "      <th>Outcome</th>\n",
              "    </tr>\n",
              "  </thead>\n",
              "  <tbody>\n",
              "    <tr>\n",
              "      <th>0</th>\n",
              "      <td>6</td>\n",
              "      <td>148</td>\n",
              "      <td>72</td>\n",
              "      <td>35</td>\n",
              "      <td>0</td>\n",
              "      <td>33.6</td>\n",
              "      <td>0.627</td>\n",
              "      <td>50</td>\n",
              "      <td>1</td>\n",
              "    </tr>\n",
              "    <tr>\n",
              "      <th>1</th>\n",
              "      <td>1</td>\n",
              "      <td>85</td>\n",
              "      <td>66</td>\n",
              "      <td>29</td>\n",
              "      <td>0</td>\n",
              "      <td>26.6</td>\n",
              "      <td>0.351</td>\n",
              "      <td>31</td>\n",
              "      <td>0</td>\n",
              "    </tr>\n",
              "    <tr>\n",
              "      <th>2</th>\n",
              "      <td>8</td>\n",
              "      <td>183</td>\n",
              "      <td>64</td>\n",
              "      <td>0</td>\n",
              "      <td>0</td>\n",
              "      <td>23.3</td>\n",
              "      <td>0.672</td>\n",
              "      <td>32</td>\n",
              "      <td>1</td>\n",
              "    </tr>\n",
              "    <tr>\n",
              "      <th>3</th>\n",
              "      <td>1</td>\n",
              "      <td>89</td>\n",
              "      <td>66</td>\n",
              "      <td>23</td>\n",
              "      <td>94</td>\n",
              "      <td>28.1</td>\n",
              "      <td>0.167</td>\n",
              "      <td>21</td>\n",
              "      <td>0</td>\n",
              "    </tr>\n",
              "    <tr>\n",
              "      <th>4</th>\n",
              "      <td>0</td>\n",
              "      <td>137</td>\n",
              "      <td>40</td>\n",
              "      <td>35</td>\n",
              "      <td>168</td>\n",
              "      <td>43.1</td>\n",
              "      <td>2.288</td>\n",
              "      <td>33</td>\n",
              "      <td>1</td>\n",
              "    </tr>\n",
              "  </tbody>\n",
              "</table>\n",
              "</div>"
            ],
            "text/plain": [
              "   Pregnancies  Glucose  BloodPressure  SkinThickness  Insulin   BMI  \\\n",
              "0            6      148             72             35        0  33.6   \n",
              "1            1       85             66             29        0  26.6   \n",
              "2            8      183             64              0        0  23.3   \n",
              "3            1       89             66             23       94  28.1   \n",
              "4            0      137             40             35      168  43.1   \n",
              "\n",
              "   DiabetesPedigreeFunction  Age  Outcome  \n",
              "0                     0.627   50        1  \n",
              "1                     0.351   31        0  \n",
              "2                     0.672   32        1  \n",
              "3                     0.167   21        0  \n",
              "4                     2.288   33        1  "
            ]
          },
          "metadata": {
            "tags": []
          },
          "execution_count": 68
        }
      ]
    },
    {
      "cell_type": "code",
      "metadata": {
        "id": "StdPLT9Vwgkj",
        "colab_type": "code",
        "colab": {},
        "outputId": "4f9b354e-0c58-40fd-f9b4-c20b29eb7f99"
      },
      "source": [
        "variable.info()"
      ],
      "execution_count": 0,
      "outputs": [
        {
          "output_type": "stream",
          "text": [
            "<class 'pandas.core.frame.DataFrame'>\n",
            "RangeIndex: 768 entries, 0 to 767\n",
            "Data columns (total 9 columns):\n",
            "Pregnancies                 768 non-null int64\n",
            "Glucose                     768 non-null int64\n",
            "BloodPressure               768 non-null int64\n",
            "SkinThickness               768 non-null int64\n",
            "Insulin                     768 non-null int64\n",
            "BMI                         768 non-null float64\n",
            "DiabetesPedigreeFunction    768 non-null float64\n",
            "Age                         768 non-null int64\n",
            "Outcome                     768 non-null int64\n",
            "dtypes: float64(2), int64(7)\n",
            "memory usage: 54.1 KB\n"
          ],
          "name": "stdout"
        }
      ]
    },
    {
      "cell_type": "code",
      "metadata": {
        "id": "xQBSuQh4wgkm",
        "colab_type": "code",
        "colab": {},
        "outputId": "74bcde5d-b605-442a-9470-310ec2239d3a"
      },
      "source": [
        "print('\\x1b[1;03;31;44m'+'Check Mean Values of Critical Data Fields - Glucose Level, Diabetes,Insuline Level, Age')\n",
        "variable['Glucose'].mean()"
      ],
      "execution_count": 0,
      "outputs": [
        {
          "output_type": "stream",
          "text": [
            "\u001b[1;03;31;44mCheck Mean Values of Critical Data Fields - Glucose Level, Diabetes,Insuline Level, Age\n"
          ],
          "name": "stdout"
        },
        {
          "output_type": "execute_result",
          "data": {
            "text/plain": [
              "120.89453125"
            ]
          },
          "metadata": {
            "tags": []
          },
          "execution_count": 70
        }
      ]
    },
    {
      "cell_type": "code",
      "metadata": {
        "id": "ht3c9uNbwgkt",
        "colab_type": "code",
        "colab": {},
        "outputId": "37759342-4fd2-4fcb-d0f7-0cacc59e1445"
      },
      "source": [
        "variable['Outcome'].mean()"
      ],
      "execution_count": 0,
      "outputs": [
        {
          "output_type": "execute_result",
          "data": {
            "text/plain": [
              "0.3489583333333333"
            ]
          },
          "metadata": {
            "tags": []
          },
          "execution_count": 18
        }
      ]
    },
    {
      "cell_type": "code",
      "metadata": {
        "id": "YoQWCpPlwgky",
        "colab_type": "code",
        "colab": {},
        "outputId": "7e017b78-3863-462e-9ac1-19f4e3efc9a3"
      },
      "source": [
        "variable['DiabetesPedigreeFunction'].mean()"
      ],
      "execution_count": 0,
      "outputs": [
        {
          "output_type": "execute_result",
          "data": {
            "text/plain": [
              "0.4718763020833327"
            ]
          },
          "metadata": {
            "tags": []
          },
          "execution_count": 19
        }
      ]
    },
    {
      "cell_type": "code",
      "metadata": {
        "id": "qutPNXDJwgk1",
        "colab_type": "code",
        "colab": {},
        "outputId": "72328ba0-f593-46d4-ba88-29e9b9482765"
      },
      "source": [
        "variable['Insulin'].mean()"
      ],
      "execution_count": 0,
      "outputs": [
        {
          "output_type": "execute_result",
          "data": {
            "text/plain": [
              "79.79947916666667"
            ]
          },
          "metadata": {
            "tags": []
          },
          "execution_count": 20
        }
      ]
    },
    {
      "cell_type": "code",
      "metadata": {
        "id": "rpSxidzxwgk4",
        "colab_type": "code",
        "colab": {},
        "outputId": "669b689c-dc82-4fba-b51f-55872c8d4055"
      },
      "source": [
        "variable['Age'].max()"
      ],
      "execution_count": 0,
      "outputs": [
        {
          "output_type": "execute_result",
          "data": {
            "text/plain": [
              "81"
            ]
          },
          "metadata": {
            "tags": []
          },
          "execution_count": 21
        }
      ]
    },
    {
      "cell_type": "code",
      "metadata": {
        "id": "LLcp8RyHwgk6",
        "colab_type": "code",
        "colab": {},
        "outputId": "a7356a52-2426-4c3c-91ca-c314cfefdb25"
      },
      "source": [
        "variable['Glucose'].max()"
      ],
      "execution_count": 0,
      "outputs": [
        {
          "output_type": "execute_result",
          "data": {
            "text/plain": [
              "199"
            ]
          },
          "metadata": {
            "tags": []
          },
          "execution_count": 22
        }
      ]
    },
    {
      "cell_type": "code",
      "metadata": {
        "id": "xMvlmRqEwgk9",
        "colab_type": "code",
        "colab": {},
        "outputId": "f6cfae9f-db91-49a1-9d06-e3d323011a75"
      },
      "source": [
        "print('\\x1b[1;03;31;44m'+'Check Glucose Level when Pregnancies are 10')\n",
        "variable[variable['Pregnancies']==10]['Glucose']"
      ],
      "execution_count": 0,
      "outputs": [
        {
          "output_type": "stream",
          "text": [
            "\u001b[1;03;31;44mCheck Glucose Level when Pregnancies are 10\n"
          ],
          "name": "stdout"
        },
        {
          "output_type": "execute_result",
          "data": {
            "text/plain": [
              "7      115\n",
              "11     168\n",
              "12     139\n",
              "25     125\n",
              "34     122\n",
              "143    108\n",
              "246    122\n",
              "270    101\n",
              "281    129\n",
              "306    161\n",
              "327    179\n",
              "458    148\n",
              "464    115\n",
              "505     75\n",
              "542     90\n",
              "578    133\n",
              "634     92\n",
              "660    162\n",
              "667    111\n",
              "672     68\n",
              "706    115\n",
              "712    129\n",
              "717     94\n",
              "763    101\n",
              "Name: Glucose, dtype: int64"
            ]
          },
          "metadata": {
            "tags": []
          },
          "execution_count": 71
        }
      ]
    },
    {
      "cell_type": "code",
      "metadata": {
        "id": "BWkE5z31wgk_",
        "colab_type": "code",
        "colab": {},
        "outputId": "2c31868e-c1ba-42e3-d24a-1553856082ee"
      },
      "source": [
        "print('\\x1b[1;03;31;44m'+'Check BP level when Age is 40')\n",
        "variable[variable['Age']==40]['BloodPressure']"
      ],
      "execution_count": 0,
      "outputs": [
        {
          "output_type": "stream",
          "text": [
            "\u001b[1;03;31;44mCheck BP level when Age is 40\n"
          ],
          "name": "stdout"
        },
        {
          "output_type": "execute_result",
          "data": {
            "text/plain": [
              "44     64\n",
              "95     72\n",
              "128    88\n",
              "184    74\n",
              "191    70\n",
              "193     0\n",
              "272    78\n",
              "504    78\n",
              "612    88\n",
              "663    80\n",
              "664    60\n",
              "667    70\n",
              "711    78\n",
              "Name: BloodPressure, dtype: int64"
            ]
          },
          "metadata": {
            "tags": []
          },
          "execution_count": 72
        }
      ]
    },
    {
      "cell_type": "code",
      "metadata": {
        "id": "V7iuIL_MwglC",
        "colab_type": "code",
        "colab": {},
        "outputId": "8f5c3163-7a2d-45ef-d179-e20be1c668c4"
      },
      "source": [
        "print('\\x1b[1;03;31;44m'+'Check Max Values based on Age')\n",
        "variable[variable['Age']==variable['Age'].max()]"
      ],
      "execution_count": 0,
      "outputs": [
        {
          "output_type": "stream",
          "text": [
            "\u001b[1;03;31;44mCheck Max Values based on Age\n"
          ],
          "name": "stdout"
        },
        {
          "output_type": "execute_result",
          "data": {
            "text/html": [
              "<div>\n",
              "<style>\n",
              "    .dataframe thead tr:only-child th {\n",
              "        text-align: right;\n",
              "    }\n",
              "\n",
              "    .dataframe thead th {\n",
              "        text-align: left;\n",
              "    }\n",
              "\n",
              "    .dataframe tbody tr th {\n",
              "        vertical-align: top;\n",
              "    }\n",
              "</style>\n",
              "<table border=\"1\" class=\"dataframe\">\n",
              "  <thead>\n",
              "    <tr style=\"text-align: right;\">\n",
              "      <th></th>\n",
              "      <th>Pregnancies</th>\n",
              "      <th>Glucose</th>\n",
              "      <th>BloodPressure</th>\n",
              "      <th>SkinThickness</th>\n",
              "      <th>Insulin</th>\n",
              "      <th>BMI</th>\n",
              "      <th>DiabetesPedigreeFunction</th>\n",
              "      <th>Age</th>\n",
              "      <th>Outcome</th>\n",
              "    </tr>\n",
              "  </thead>\n",
              "  <tbody>\n",
              "    <tr>\n",
              "      <th>459</th>\n",
              "      <td>9</td>\n",
              "      <td>134</td>\n",
              "      <td>74</td>\n",
              "      <td>33</td>\n",
              "      <td>60</td>\n",
              "      <td>25.9</td>\n",
              "      <td>0.46</td>\n",
              "      <td>81</td>\n",
              "      <td>0</td>\n",
              "    </tr>\n",
              "  </tbody>\n",
              "</table>\n",
              "</div>"
            ],
            "text/plain": [
              "     Pregnancies  Glucose  BloodPressure  SkinThickness  Insulin   BMI  \\\n",
              "459            9      134             74             33       60  25.9   \n",
              "\n",
              "     DiabetesPedigreeFunction  Age  Outcome  \n",
              "459                      0.46   81        0  "
            ]
          },
          "metadata": {
            "tags": []
          },
          "execution_count": 73
        }
      ]
    },
    {
      "cell_type": "code",
      "metadata": {
        "id": "_HQQe56gwglE",
        "colab_type": "code",
        "colab": {},
        "outputId": "9688f18b-6e9f-4fc6-8e3b-4e169acfa7eb"
      },
      "source": [
        "print('\\x1b[1;03;31;44m'+'Check Min Values based on Age')\n",
        "variable[variable['Age']==variable['Age'].min()]"
      ],
      "execution_count": 0,
      "outputs": [
        {
          "output_type": "stream",
          "text": [
            "\u001b[1;03;31;44mCheck Min Values based on Age\n"
          ],
          "name": "stdout"
        },
        {
          "output_type": "execute_result",
          "data": {
            "text/html": [
              "<div>\n",
              "<style>\n",
              "    .dataframe thead tr:only-child th {\n",
              "        text-align: right;\n",
              "    }\n",
              "\n",
              "    .dataframe thead th {\n",
              "        text-align: left;\n",
              "    }\n",
              "\n",
              "    .dataframe tbody tr th {\n",
              "        vertical-align: top;\n",
              "    }\n",
              "</style>\n",
              "<table border=\"1\" class=\"dataframe\">\n",
              "  <thead>\n",
              "    <tr style=\"text-align: right;\">\n",
              "      <th></th>\n",
              "      <th>Pregnancies</th>\n",
              "      <th>Glucose</th>\n",
              "      <th>BloodPressure</th>\n",
              "      <th>SkinThickness</th>\n",
              "      <th>Insulin</th>\n",
              "      <th>BMI</th>\n",
              "      <th>DiabetesPedigreeFunction</th>\n",
              "      <th>Age</th>\n",
              "      <th>Outcome</th>\n",
              "    </tr>\n",
              "  </thead>\n",
              "  <tbody>\n",
              "    <tr>\n",
              "      <th>3</th>\n",
              "      <td>1</td>\n",
              "      <td>89</td>\n",
              "      <td>66</td>\n",
              "      <td>23</td>\n",
              "      <td>94</td>\n",
              "      <td>28.1</td>\n",
              "      <td>0.167</td>\n",
              "      <td>21</td>\n",
              "      <td>0</td>\n",
              "    </tr>\n",
              "    <tr>\n",
              "      <th>55</th>\n",
              "      <td>1</td>\n",
              "      <td>73</td>\n",
              "      <td>50</td>\n",
              "      <td>10</td>\n",
              "      <td>0</td>\n",
              "      <td>23.0</td>\n",
              "      <td>0.248</td>\n",
              "      <td>21</td>\n",
              "      <td>0</td>\n",
              "    </tr>\n",
              "    <tr>\n",
              "      <th>60</th>\n",
              "      <td>2</td>\n",
              "      <td>84</td>\n",
              "      <td>0</td>\n",
              "      <td>0</td>\n",
              "      <td>0</td>\n",
              "      <td>0.0</td>\n",
              "      <td>0.304</td>\n",
              "      <td>21</td>\n",
              "      <td>0</td>\n",
              "    </tr>\n",
              "    <tr>\n",
              "      <th>90</th>\n",
              "      <td>1</td>\n",
              "      <td>80</td>\n",
              "      <td>55</td>\n",
              "      <td>0</td>\n",
              "      <td>0</td>\n",
              "      <td>19.1</td>\n",
              "      <td>0.258</td>\n",
              "      <td>21</td>\n",
              "      <td>0</td>\n",
              "    </tr>\n",
              "    <tr>\n",
              "      <th>94</th>\n",
              "      <td>2</td>\n",
              "      <td>142</td>\n",
              "      <td>82</td>\n",
              "      <td>18</td>\n",
              "      <td>64</td>\n",
              "      <td>24.7</td>\n",
              "      <td>0.761</td>\n",
              "      <td>21</td>\n",
              "      <td>0</td>\n",
              "    </tr>\n",
              "    <tr>\n",
              "      <th>102</th>\n",
              "      <td>0</td>\n",
              "      <td>125</td>\n",
              "      <td>96</td>\n",
              "      <td>0</td>\n",
              "      <td>0</td>\n",
              "      <td>22.5</td>\n",
              "      <td>0.262</td>\n",
              "      <td>21</td>\n",
              "      <td>0</td>\n",
              "    </tr>\n",
              "    <tr>\n",
              "      <th>105</th>\n",
              "      <td>1</td>\n",
              "      <td>126</td>\n",
              "      <td>56</td>\n",
              "      <td>29</td>\n",
              "      <td>152</td>\n",
              "      <td>28.7</td>\n",
              "      <td>0.801</td>\n",
              "      <td>21</td>\n",
              "      <td>0</td>\n",
              "    </tr>\n",
              "    <tr>\n",
              "      <th>119</th>\n",
              "      <td>4</td>\n",
              "      <td>99</td>\n",
              "      <td>76</td>\n",
              "      <td>15</td>\n",
              "      <td>51</td>\n",
              "      <td>23.2</td>\n",
              "      <td>0.223</td>\n",
              "      <td>21</td>\n",
              "      <td>0</td>\n",
              "    </tr>\n",
              "    <tr>\n",
              "      <th>136</th>\n",
              "      <td>0</td>\n",
              "      <td>100</td>\n",
              "      <td>70</td>\n",
              "      <td>26</td>\n",
              "      <td>50</td>\n",
              "      <td>30.8</td>\n",
              "      <td>0.597</td>\n",
              "      <td>21</td>\n",
              "      <td>0</td>\n",
              "    </tr>\n",
              "    <tr>\n",
              "      <th>145</th>\n",
              "      <td>0</td>\n",
              "      <td>102</td>\n",
              "      <td>75</td>\n",
              "      <td>23</td>\n",
              "      <td>0</td>\n",
              "      <td>0.0</td>\n",
              "      <td>0.572</td>\n",
              "      <td>21</td>\n",
              "      <td>0</td>\n",
              "    </tr>\n",
              "    <tr>\n",
              "      <th>156</th>\n",
              "      <td>2</td>\n",
              "      <td>99</td>\n",
              "      <td>52</td>\n",
              "      <td>15</td>\n",
              "      <td>94</td>\n",
              "      <td>24.6</td>\n",
              "      <td>0.637</td>\n",
              "      <td>21</td>\n",
              "      <td>0</td>\n",
              "    </tr>\n",
              "    <tr>\n",
              "      <th>163</th>\n",
              "      <td>2</td>\n",
              "      <td>100</td>\n",
              "      <td>64</td>\n",
              "      <td>23</td>\n",
              "      <td>0</td>\n",
              "      <td>29.7</td>\n",
              "      <td>0.368</td>\n",
              "      <td>21</td>\n",
              "      <td>0</td>\n",
              "    </tr>\n",
              "    <tr>\n",
              "      <th>182</th>\n",
              "      <td>1</td>\n",
              "      <td>0</td>\n",
              "      <td>74</td>\n",
              "      <td>20</td>\n",
              "      <td>23</td>\n",
              "      <td>27.7</td>\n",
              "      <td>0.299</td>\n",
              "      <td>21</td>\n",
              "      <td>0</td>\n",
              "    </tr>\n",
              "    <tr>\n",
              "      <th>190</th>\n",
              "      <td>3</td>\n",
              "      <td>111</td>\n",
              "      <td>62</td>\n",
              "      <td>0</td>\n",
              "      <td>0</td>\n",
              "      <td>22.6</td>\n",
              "      <td>0.142</td>\n",
              "      <td>21</td>\n",
              "      <td>0</td>\n",
              "    </tr>\n",
              "    <tr>\n",
              "      <th>196</th>\n",
              "      <td>1</td>\n",
              "      <td>105</td>\n",
              "      <td>58</td>\n",
              "      <td>0</td>\n",
              "      <td>0</td>\n",
              "      <td>24.3</td>\n",
              "      <td>0.187</td>\n",
              "      <td>21</td>\n",
              "      <td>0</td>\n",
              "    </tr>\n",
              "    <tr>\n",
              "      <th>200</th>\n",
              "      <td>0</td>\n",
              "      <td>113</td>\n",
              "      <td>80</td>\n",
              "      <td>16</td>\n",
              "      <td>0</td>\n",
              "      <td>31.0</td>\n",
              "      <td>0.874</td>\n",
              "      <td>21</td>\n",
              "      <td>0</td>\n",
              "    </tr>\n",
              "    <tr>\n",
              "      <th>208</th>\n",
              "      <td>1</td>\n",
              "      <td>96</td>\n",
              "      <td>64</td>\n",
              "      <td>27</td>\n",
              "      <td>87</td>\n",
              "      <td>33.2</td>\n",
              "      <td>0.289</td>\n",
              "      <td>21</td>\n",
              "      <td>0</td>\n",
              "    </tr>\n",
              "    <tr>\n",
              "      <th>220</th>\n",
              "      <td>0</td>\n",
              "      <td>177</td>\n",
              "      <td>60</td>\n",
              "      <td>29</td>\n",
              "      <td>478</td>\n",
              "      <td>34.6</td>\n",
              "      <td>1.072</td>\n",
              "      <td>21</td>\n",
              "      <td>1</td>\n",
              "    </tr>\n",
              "    <tr>\n",
              "      <th>240</th>\n",
              "      <td>1</td>\n",
              "      <td>91</td>\n",
              "      <td>64</td>\n",
              "      <td>24</td>\n",
              "      <td>0</td>\n",
              "      <td>29.2</td>\n",
              "      <td>0.192</td>\n",
              "      <td>21</td>\n",
              "      <td>0</td>\n",
              "    </tr>\n",
              "    <tr>\n",
              "      <th>255</th>\n",
              "      <td>1</td>\n",
              "      <td>113</td>\n",
              "      <td>64</td>\n",
              "      <td>35</td>\n",
              "      <td>0</td>\n",
              "      <td>33.6</td>\n",
              "      <td>0.543</td>\n",
              "      <td>21</td>\n",
              "      <td>1</td>\n",
              "    </tr>\n",
              "    <tr>\n",
              "      <th>268</th>\n",
              "      <td>0</td>\n",
              "      <td>102</td>\n",
              "      <td>52</td>\n",
              "      <td>0</td>\n",
              "      <td>0</td>\n",
              "      <td>25.1</td>\n",
              "      <td>0.078</td>\n",
              "      <td>21</td>\n",
              "      <td>0</td>\n",
              "    </tr>\n",
              "    <tr>\n",
              "      <th>271</th>\n",
              "      <td>2</td>\n",
              "      <td>108</td>\n",
              "      <td>62</td>\n",
              "      <td>32</td>\n",
              "      <td>56</td>\n",
              "      <td>25.2</td>\n",
              "      <td>0.128</td>\n",
              "      <td>21</td>\n",
              "      <td>0</td>\n",
              "    </tr>\n",
              "    <tr>\n",
              "      <th>273</th>\n",
              "      <td>1</td>\n",
              "      <td>71</td>\n",
              "      <td>78</td>\n",
              "      <td>50</td>\n",
              "      <td>45</td>\n",
              "      <td>33.2</td>\n",
              "      <td>0.422</td>\n",
              "      <td>21</td>\n",
              "      <td>0</td>\n",
              "    </tr>\n",
              "    <tr>\n",
              "      <th>290</th>\n",
              "      <td>0</td>\n",
              "      <td>78</td>\n",
              "      <td>88</td>\n",
              "      <td>29</td>\n",
              "      <td>40</td>\n",
              "      <td>36.9</td>\n",
              "      <td>0.434</td>\n",
              "      <td>21</td>\n",
              "      <td>0</td>\n",
              "    </tr>\n",
              "    <tr>\n",
              "      <th>307</th>\n",
              "      <td>0</td>\n",
              "      <td>137</td>\n",
              "      <td>68</td>\n",
              "      <td>14</td>\n",
              "      <td>148</td>\n",
              "      <td>24.8</td>\n",
              "      <td>0.143</td>\n",
              "      <td>21</td>\n",
              "      <td>0</td>\n",
              "    </tr>\n",
              "    <tr>\n",
              "      <th>324</th>\n",
              "      <td>2</td>\n",
              "      <td>112</td>\n",
              "      <td>75</td>\n",
              "      <td>32</td>\n",
              "      <td>0</td>\n",
              "      <td>35.7</td>\n",
              "      <td>0.148</td>\n",
              "      <td>21</td>\n",
              "      <td>0</td>\n",
              "    </tr>\n",
              "    <tr>\n",
              "      <th>354</th>\n",
              "      <td>3</td>\n",
              "      <td>90</td>\n",
              "      <td>78</td>\n",
              "      <td>0</td>\n",
              "      <td>0</td>\n",
              "      <td>42.7</td>\n",
              "      <td>0.559</td>\n",
              "      <td>21</td>\n",
              "      <td>0</td>\n",
              "    </tr>\n",
              "    <tr>\n",
              "      <th>367</th>\n",
              "      <td>0</td>\n",
              "      <td>101</td>\n",
              "      <td>64</td>\n",
              "      <td>17</td>\n",
              "      <td>0</td>\n",
              "      <td>21.0</td>\n",
              "      <td>0.252</td>\n",
              "      <td>21</td>\n",
              "      <td>0</td>\n",
              "    </tr>\n",
              "    <tr>\n",
              "      <th>371</th>\n",
              "      <td>0</td>\n",
              "      <td>118</td>\n",
              "      <td>64</td>\n",
              "      <td>23</td>\n",
              "      <td>89</td>\n",
              "      <td>0.0</td>\n",
              "      <td>1.731</td>\n",
              "      <td>21</td>\n",
              "      <td>0</td>\n",
              "    </tr>\n",
              "    <tr>\n",
              "      <th>372</th>\n",
              "      <td>0</td>\n",
              "      <td>84</td>\n",
              "      <td>64</td>\n",
              "      <td>22</td>\n",
              "      <td>66</td>\n",
              "      <td>35.8</td>\n",
              "      <td>0.545</td>\n",
              "      <td>21</td>\n",
              "      <td>0</td>\n",
              "    </tr>\n",
              "    <tr>\n",
              "      <th>...</th>\n",
              "      <td>...</td>\n",
              "      <td>...</td>\n",
              "      <td>...</td>\n",
              "      <td>...</td>\n",
              "      <td>...</td>\n",
              "      <td>...</td>\n",
              "      <td>...</td>\n",
              "      <td>...</td>\n",
              "      <td>...</td>\n",
              "    </tr>\n",
              "    <tr>\n",
              "      <th>414</th>\n",
              "      <td>0</td>\n",
              "      <td>138</td>\n",
              "      <td>60</td>\n",
              "      <td>35</td>\n",
              "      <td>167</td>\n",
              "      <td>34.6</td>\n",
              "      <td>0.534</td>\n",
              "      <td>21</td>\n",
              "      <td>1</td>\n",
              "    </tr>\n",
              "    <tr>\n",
              "      <th>421</th>\n",
              "      <td>2</td>\n",
              "      <td>94</td>\n",
              "      <td>68</td>\n",
              "      <td>18</td>\n",
              "      <td>76</td>\n",
              "      <td>26.0</td>\n",
              "      <td>0.561</td>\n",
              "      <td>21</td>\n",
              "      <td>0</td>\n",
              "    </tr>\n",
              "    <tr>\n",
              "      <th>422</th>\n",
              "      <td>0</td>\n",
              "      <td>102</td>\n",
              "      <td>64</td>\n",
              "      <td>46</td>\n",
              "      <td>78</td>\n",
              "      <td>40.6</td>\n",
              "      <td>0.496</td>\n",
              "      <td>21</td>\n",
              "      <td>0</td>\n",
              "    </tr>\n",
              "    <tr>\n",
              "      <th>423</th>\n",
              "      <td>2</td>\n",
              "      <td>115</td>\n",
              "      <td>64</td>\n",
              "      <td>22</td>\n",
              "      <td>0</td>\n",
              "      <td>30.8</td>\n",
              "      <td>0.421</td>\n",
              "      <td>21</td>\n",
              "      <td>0</td>\n",
              "    </tr>\n",
              "    <tr>\n",
              "      <th>438</th>\n",
              "      <td>1</td>\n",
              "      <td>97</td>\n",
              "      <td>70</td>\n",
              "      <td>15</td>\n",
              "      <td>0</td>\n",
              "      <td>18.2</td>\n",
              "      <td>0.147</td>\n",
              "      <td>21</td>\n",
              "      <td>0</td>\n",
              "    </tr>\n",
              "    <tr>\n",
              "      <th>465</th>\n",
              "      <td>0</td>\n",
              "      <td>124</td>\n",
              "      <td>56</td>\n",
              "      <td>13</td>\n",
              "      <td>105</td>\n",
              "      <td>21.8</td>\n",
              "      <td>0.452</td>\n",
              "      <td>21</td>\n",
              "      <td>0</td>\n",
              "    </tr>\n",
              "    <tr>\n",
              "      <th>486</th>\n",
              "      <td>1</td>\n",
              "      <td>139</td>\n",
              "      <td>62</td>\n",
              "      <td>41</td>\n",
              "      <td>480</td>\n",
              "      <td>40.7</td>\n",
              "      <td>0.536</td>\n",
              "      <td>21</td>\n",
              "      <td>0</td>\n",
              "    </tr>\n",
              "    <tr>\n",
              "      <th>500</th>\n",
              "      <td>2</td>\n",
              "      <td>117</td>\n",
              "      <td>90</td>\n",
              "      <td>19</td>\n",
              "      <td>71</td>\n",
              "      <td>25.2</td>\n",
              "      <td>0.313</td>\n",
              "      <td>21</td>\n",
              "      <td>0</td>\n",
              "    </tr>\n",
              "    <tr>\n",
              "      <th>507</th>\n",
              "      <td>1</td>\n",
              "      <td>130</td>\n",
              "      <td>60</td>\n",
              "      <td>23</td>\n",
              "      <td>170</td>\n",
              "      <td>28.6</td>\n",
              "      <td>0.692</td>\n",
              "      <td>21</td>\n",
              "      <td>0</td>\n",
              "    </tr>\n",
              "    <tr>\n",
              "      <th>508</th>\n",
              "      <td>2</td>\n",
              "      <td>84</td>\n",
              "      <td>50</td>\n",
              "      <td>23</td>\n",
              "      <td>76</td>\n",
              "      <td>30.4</td>\n",
              "      <td>0.968</td>\n",
              "      <td>21</td>\n",
              "      <td>0</td>\n",
              "    </tr>\n",
              "    <tr>\n",
              "      <th>511</th>\n",
              "      <td>0</td>\n",
              "      <td>139</td>\n",
              "      <td>62</td>\n",
              "      <td>17</td>\n",
              "      <td>210</td>\n",
              "      <td>22.1</td>\n",
              "      <td>0.207</td>\n",
              "      <td>21</td>\n",
              "      <td>0</td>\n",
              "    </tr>\n",
              "    <tr>\n",
              "      <th>525</th>\n",
              "      <td>3</td>\n",
              "      <td>87</td>\n",
              "      <td>60</td>\n",
              "      <td>18</td>\n",
              "      <td>0</td>\n",
              "      <td>21.8</td>\n",
              "      <td>0.444</td>\n",
              "      <td>21</td>\n",
              "      <td>0</td>\n",
              "    </tr>\n",
              "    <tr>\n",
              "      <th>526</th>\n",
              "      <td>1</td>\n",
              "      <td>97</td>\n",
              "      <td>64</td>\n",
              "      <td>19</td>\n",
              "      <td>82</td>\n",
              "      <td>18.2</td>\n",
              "      <td>0.299</td>\n",
              "      <td>21</td>\n",
              "      <td>0</td>\n",
              "    </tr>\n",
              "    <tr>\n",
              "      <th>550</th>\n",
              "      <td>1</td>\n",
              "      <td>116</td>\n",
              "      <td>70</td>\n",
              "      <td>28</td>\n",
              "      <td>0</td>\n",
              "      <td>27.4</td>\n",
              "      <td>0.204</td>\n",
              "      <td>21</td>\n",
              "      <td>0</td>\n",
              "    </tr>\n",
              "    <tr>\n",
              "      <th>566</th>\n",
              "      <td>1</td>\n",
              "      <td>99</td>\n",
              "      <td>72</td>\n",
              "      <td>30</td>\n",
              "      <td>18</td>\n",
              "      <td>38.6</td>\n",
              "      <td>0.412</td>\n",
              "      <td>21</td>\n",
              "      <td>0</td>\n",
              "    </tr>\n",
              "    <tr>\n",
              "      <th>571</th>\n",
              "      <td>2</td>\n",
              "      <td>130</td>\n",
              "      <td>96</td>\n",
              "      <td>0</td>\n",
              "      <td>0</td>\n",
              "      <td>22.6</td>\n",
              "      <td>0.268</td>\n",
              "      <td>21</td>\n",
              "      <td>0</td>\n",
              "    </tr>\n",
              "    <tr>\n",
              "      <th>577</th>\n",
              "      <td>2</td>\n",
              "      <td>118</td>\n",
              "      <td>80</td>\n",
              "      <td>0</td>\n",
              "      <td>0</td>\n",
              "      <td>42.9</td>\n",
              "      <td>0.693</td>\n",
              "      <td>21</td>\n",
              "      <td>1</td>\n",
              "    </tr>\n",
              "    <tr>\n",
              "      <th>580</th>\n",
              "      <td>0</td>\n",
              "      <td>151</td>\n",
              "      <td>90</td>\n",
              "      <td>46</td>\n",
              "      <td>0</td>\n",
              "      <td>42.1</td>\n",
              "      <td>0.371</td>\n",
              "      <td>21</td>\n",
              "      <td>1</td>\n",
              "    </tr>\n",
              "    <tr>\n",
              "      <th>597</th>\n",
              "      <td>1</td>\n",
              "      <td>89</td>\n",
              "      <td>24</td>\n",
              "      <td>19</td>\n",
              "      <td>25</td>\n",
              "      <td>27.8</td>\n",
              "      <td>0.559</td>\n",
              "      <td>21</td>\n",
              "      <td>0</td>\n",
              "    </tr>\n",
              "    <tr>\n",
              "      <th>605</th>\n",
              "      <td>1</td>\n",
              "      <td>124</td>\n",
              "      <td>60</td>\n",
              "      <td>32</td>\n",
              "      <td>0</td>\n",
              "      <td>35.8</td>\n",
              "      <td>0.514</td>\n",
              "      <td>21</td>\n",
              "      <td>0</td>\n",
              "    </tr>\n",
              "    <tr>\n",
              "      <th>623</th>\n",
              "      <td>0</td>\n",
              "      <td>94</td>\n",
              "      <td>70</td>\n",
              "      <td>27</td>\n",
              "      <td>115</td>\n",
              "      <td>43.5</td>\n",
              "      <td>0.347</td>\n",
              "      <td>21</td>\n",
              "      <td>0</td>\n",
              "    </tr>\n",
              "    <tr>\n",
              "      <th>624</th>\n",
              "      <td>2</td>\n",
              "      <td>108</td>\n",
              "      <td>64</td>\n",
              "      <td>0</td>\n",
              "      <td>0</td>\n",
              "      <td>30.8</td>\n",
              "      <td>0.158</td>\n",
              "      <td>21</td>\n",
              "      <td>0</td>\n",
              "    </tr>\n",
              "    <tr>\n",
              "      <th>626</th>\n",
              "      <td>0</td>\n",
              "      <td>125</td>\n",
              "      <td>68</td>\n",
              "      <td>0</td>\n",
              "      <td>0</td>\n",
              "      <td>24.7</td>\n",
              "      <td>0.206</td>\n",
              "      <td>21</td>\n",
              "      <td>0</td>\n",
              "    </tr>\n",
              "    <tr>\n",
              "      <th>627</th>\n",
              "      <td>0</td>\n",
              "      <td>132</td>\n",
              "      <td>78</td>\n",
              "      <td>0</td>\n",
              "      <td>0</td>\n",
              "      <td>32.4</td>\n",
              "      <td>0.393</td>\n",
              "      <td>21</td>\n",
              "      <td>0</td>\n",
              "    </tr>\n",
              "    <tr>\n",
              "      <th>629</th>\n",
              "      <td>4</td>\n",
              "      <td>94</td>\n",
              "      <td>65</td>\n",
              "      <td>22</td>\n",
              "      <td>0</td>\n",
              "      <td>24.7</td>\n",
              "      <td>0.148</td>\n",
              "      <td>21</td>\n",
              "      <td>0</td>\n",
              "    </tr>\n",
              "    <tr>\n",
              "      <th>671</th>\n",
              "      <td>1</td>\n",
              "      <td>99</td>\n",
              "      <td>58</td>\n",
              "      <td>10</td>\n",
              "      <td>0</td>\n",
              "      <td>25.4</td>\n",
              "      <td>0.551</td>\n",
              "      <td>21</td>\n",
              "      <td>0</td>\n",
              "    </tr>\n",
              "    <tr>\n",
              "      <th>713</th>\n",
              "      <td>0</td>\n",
              "      <td>134</td>\n",
              "      <td>58</td>\n",
              "      <td>20</td>\n",
              "      <td>291</td>\n",
              "      <td>26.4</td>\n",
              "      <td>0.352</td>\n",
              "      <td>21</td>\n",
              "      <td>0</td>\n",
              "    </tr>\n",
              "    <tr>\n",
              "      <th>721</th>\n",
              "      <td>1</td>\n",
              "      <td>114</td>\n",
              "      <td>66</td>\n",
              "      <td>36</td>\n",
              "      <td>200</td>\n",
              "      <td>38.1</td>\n",
              "      <td>0.289</td>\n",
              "      <td>21</td>\n",
              "      <td>0</td>\n",
              "    </tr>\n",
              "    <tr>\n",
              "      <th>736</th>\n",
              "      <td>0</td>\n",
              "      <td>126</td>\n",
              "      <td>86</td>\n",
              "      <td>27</td>\n",
              "      <td>120</td>\n",
              "      <td>27.4</td>\n",
              "      <td>0.515</td>\n",
              "      <td>21</td>\n",
              "      <td>0</td>\n",
              "    </tr>\n",
              "    <tr>\n",
              "      <th>738</th>\n",
              "      <td>2</td>\n",
              "      <td>99</td>\n",
              "      <td>60</td>\n",
              "      <td>17</td>\n",
              "      <td>160</td>\n",
              "      <td>36.6</td>\n",
              "      <td>0.453</td>\n",
              "      <td>21</td>\n",
              "      <td>0</td>\n",
              "    </tr>\n",
              "  </tbody>\n",
              "</table>\n",
              "<p>63 rows × 9 columns</p>\n",
              "</div>"
            ],
            "text/plain": [
              "     Pregnancies  Glucose  BloodPressure  SkinThickness  Insulin   BMI  \\\n",
              "3              1       89             66             23       94  28.1   \n",
              "55             1       73             50             10        0  23.0   \n",
              "60             2       84              0              0        0   0.0   \n",
              "90             1       80             55              0        0  19.1   \n",
              "94             2      142             82             18       64  24.7   \n",
              "102            0      125             96              0        0  22.5   \n",
              "105            1      126             56             29      152  28.7   \n",
              "119            4       99             76             15       51  23.2   \n",
              "136            0      100             70             26       50  30.8   \n",
              "145            0      102             75             23        0   0.0   \n",
              "156            2       99             52             15       94  24.6   \n",
              "163            2      100             64             23        0  29.7   \n",
              "182            1        0             74             20       23  27.7   \n",
              "190            3      111             62              0        0  22.6   \n",
              "196            1      105             58              0        0  24.3   \n",
              "200            0      113             80             16        0  31.0   \n",
              "208            1       96             64             27       87  33.2   \n",
              "220            0      177             60             29      478  34.6   \n",
              "240            1       91             64             24        0  29.2   \n",
              "255            1      113             64             35        0  33.6   \n",
              "268            0      102             52              0        0  25.1   \n",
              "271            2      108             62             32       56  25.2   \n",
              "273            1       71             78             50       45  33.2   \n",
              "290            0       78             88             29       40  36.9   \n",
              "307            0      137             68             14      148  24.8   \n",
              "324            2      112             75             32        0  35.7   \n",
              "354            3       90             78              0        0  42.7   \n",
              "367            0      101             64             17        0  21.0   \n",
              "371            0      118             64             23       89   0.0   \n",
              "372            0       84             64             22       66  35.8   \n",
              "..           ...      ...            ...            ...      ...   ...   \n",
              "414            0      138             60             35      167  34.6   \n",
              "421            2       94             68             18       76  26.0   \n",
              "422            0      102             64             46       78  40.6   \n",
              "423            2      115             64             22        0  30.8   \n",
              "438            1       97             70             15        0  18.2   \n",
              "465            0      124             56             13      105  21.8   \n",
              "486            1      139             62             41      480  40.7   \n",
              "500            2      117             90             19       71  25.2   \n",
              "507            1      130             60             23      170  28.6   \n",
              "508            2       84             50             23       76  30.4   \n",
              "511            0      139             62             17      210  22.1   \n",
              "525            3       87             60             18        0  21.8   \n",
              "526            1       97             64             19       82  18.2   \n",
              "550            1      116             70             28        0  27.4   \n",
              "566            1       99             72             30       18  38.6   \n",
              "571            2      130             96              0        0  22.6   \n",
              "577            2      118             80              0        0  42.9   \n",
              "580            0      151             90             46        0  42.1   \n",
              "597            1       89             24             19       25  27.8   \n",
              "605            1      124             60             32        0  35.8   \n",
              "623            0       94             70             27      115  43.5   \n",
              "624            2      108             64              0        0  30.8   \n",
              "626            0      125             68              0        0  24.7   \n",
              "627            0      132             78              0        0  32.4   \n",
              "629            4       94             65             22        0  24.7   \n",
              "671            1       99             58             10        0  25.4   \n",
              "713            0      134             58             20      291  26.4   \n",
              "721            1      114             66             36      200  38.1   \n",
              "736            0      126             86             27      120  27.4   \n",
              "738            2       99             60             17      160  36.6   \n",
              "\n",
              "     DiabetesPedigreeFunction  Age  Outcome  \n",
              "3                       0.167   21        0  \n",
              "55                      0.248   21        0  \n",
              "60                      0.304   21        0  \n",
              "90                      0.258   21        0  \n",
              "94                      0.761   21        0  \n",
              "102                     0.262   21        0  \n",
              "105                     0.801   21        0  \n",
              "119                     0.223   21        0  \n",
              "136                     0.597   21        0  \n",
              "145                     0.572   21        0  \n",
              "156                     0.637   21        0  \n",
              "163                     0.368   21        0  \n",
              "182                     0.299   21        0  \n",
              "190                     0.142   21        0  \n",
              "196                     0.187   21        0  \n",
              "200                     0.874   21        0  \n",
              "208                     0.289   21        0  \n",
              "220                     1.072   21        1  \n",
              "240                     0.192   21        0  \n",
              "255                     0.543   21        1  \n",
              "268                     0.078   21        0  \n",
              "271                     0.128   21        0  \n",
              "273                     0.422   21        0  \n",
              "290                     0.434   21        0  \n",
              "307                     0.143   21        0  \n",
              "324                     0.148   21        0  \n",
              "354                     0.559   21        0  \n",
              "367                     0.252   21        0  \n",
              "371                     1.731   21        0  \n",
              "372                     0.545   21        0  \n",
              "..                        ...  ...      ...  \n",
              "414                     0.534   21        1  \n",
              "421                     0.561   21        0  \n",
              "422                     0.496   21        0  \n",
              "423                     0.421   21        0  \n",
              "438                     0.147   21        0  \n",
              "465                     0.452   21        0  \n",
              "486                     0.536   21        0  \n",
              "500                     0.313   21        0  \n",
              "507                     0.692   21        0  \n",
              "508                     0.968   21        0  \n",
              "511                     0.207   21        0  \n",
              "525                     0.444   21        0  \n",
              "526                     0.299   21        0  \n",
              "550                     0.204   21        0  \n",
              "566                     0.412   21        0  \n",
              "571                     0.268   21        0  \n",
              "577                     0.693   21        1  \n",
              "580                     0.371   21        1  \n",
              "597                     0.559   21        0  \n",
              "605                     0.514   21        0  \n",
              "623                     0.347   21        0  \n",
              "624                     0.158   21        0  \n",
              "626                     0.206   21        0  \n",
              "627                     0.393   21        0  \n",
              "629                     0.148   21        0  \n",
              "671                     0.551   21        0  \n",
              "713                     0.352   21        0  \n",
              "721                     0.289   21        0  \n",
              "736                     0.515   21        0  \n",
              "738                     0.453   21        0  \n",
              "\n",
              "[63 rows x 9 columns]"
            ]
          },
          "metadata": {
            "tags": []
          },
          "execution_count": 74
        }
      ]
    },
    {
      "cell_type": "code",
      "metadata": {
        "id": "oC91RuN7wglG",
        "colab_type": "code",
        "colab": {},
        "outputId": "8895fc3b-a7da-47d6-f362-b96667ebd459"
      },
      "source": [
        "print('\\x1b[1;03;31;44m'+'Check Mean Values Grouped by Outcome')\n",
        "variable.groupby('Outcome').mean()['Age']"
      ],
      "execution_count": 0,
      "outputs": [
        {
          "output_type": "stream",
          "text": [
            "\u001b[1;03;31;44mCheck Mean Values Grouped by Outcome\n"
          ],
          "name": "stdout"
        },
        {
          "output_type": "execute_result",
          "data": {
            "text/plain": [
              "Outcome\n",
              "0    31.190000\n",
              "1    37.067164\n",
              "Name: Age, dtype: float64"
            ]
          },
          "metadata": {
            "tags": []
          },
          "execution_count": 75
        }
      ]
    },
    {
      "cell_type": "code",
      "metadata": {
        "id": "qBy6IfVXwglK",
        "colab_type": "code",
        "colab": {},
        "outputId": "9c87c662-ea6a-4cb5-c7e5-fda5172c2b3c"
      },
      "source": [
        "print('\\x1b[1;03;31;44m'+'Check Uniques values in Dataset')\n",
        "variable['DiabetesPedigreeFunction'].nunique()"
      ],
      "execution_count": 0,
      "outputs": [
        {
          "output_type": "stream",
          "text": [
            "\u001b[1;03;31;44mCheck Uniques values in Dataset\n"
          ],
          "name": "stdout"
        },
        {
          "output_type": "execute_result",
          "data": {
            "text/plain": [
              "517"
            ]
          },
          "metadata": {
            "tags": []
          },
          "execution_count": 77
        }
      ]
    },
    {
      "cell_type": "code",
      "metadata": {
        "id": "rd1I1_SvwglM",
        "colab_type": "code",
        "colab": {},
        "outputId": "14e7c0cb-a73c-4458-b56d-ea40f2c627ae"
      },
      "source": [
        "print('\\x1b[1;03;31;44m'+'Check Values bases on Outcome')\n",
        "variable['Outcome'].value_counts()"
      ],
      "execution_count": 0,
      "outputs": [
        {
          "output_type": "stream",
          "text": [
            "\u001b[1;03;31;44mCheck Values bases on Outcome\n"
          ],
          "name": "stdout"
        },
        {
          "output_type": "execute_result",
          "data": {
            "text/plain": [
              "0    500\n",
              "1    268\n",
              "Name: Outcome, dtype: int64"
            ]
          },
          "metadata": {
            "tags": []
          },
          "execution_count": 78
        }
      ]
    },
    {
      "cell_type": "code",
      "metadata": {
        "id": "bwEa8bkOwglP",
        "colab_type": "code",
        "colab": {},
        "outputId": "8000731e-a6c1-446f-bf79-df5310a4a0b1"
      },
      "source": [
        "print('\\x1b[1;03;31;44m'+'Check Correlation between Age and Glucose level')\n",
        "variable[['Glucose','Age']].corr()"
      ],
      "execution_count": 0,
      "outputs": [
        {
          "output_type": "stream",
          "text": [
            "\u001b[1;03;31;44mCheck Correlation between Age and Glucose level\n"
          ],
          "name": "stdout"
        },
        {
          "output_type": "execute_result",
          "data": {
            "text/html": [
              "<div>\n",
              "<style>\n",
              "    .dataframe thead tr:only-child th {\n",
              "        text-align: right;\n",
              "    }\n",
              "\n",
              "    .dataframe thead th {\n",
              "        text-align: left;\n",
              "    }\n",
              "\n",
              "    .dataframe tbody tr th {\n",
              "        vertical-align: top;\n",
              "    }\n",
              "</style>\n",
              "<table border=\"1\" class=\"dataframe\">\n",
              "  <thead>\n",
              "    <tr style=\"text-align: right;\">\n",
              "      <th></th>\n",
              "      <th>Glucose</th>\n",
              "      <th>Age</th>\n",
              "    </tr>\n",
              "  </thead>\n",
              "  <tbody>\n",
              "    <tr>\n",
              "      <th>Glucose</th>\n",
              "      <td>1.000000</td>\n",
              "      <td>0.263514</td>\n",
              "    </tr>\n",
              "    <tr>\n",
              "      <th>Age</th>\n",
              "      <td>0.263514</td>\n",
              "      <td>1.000000</td>\n",
              "    </tr>\n",
              "  </tbody>\n",
              "</table>\n",
              "</div>"
            ],
            "text/plain": [
              "          Glucose       Age\n",
              "Glucose  1.000000  0.263514\n",
              "Age      0.263514  1.000000"
            ]
          },
          "metadata": {
            "tags": []
          },
          "execution_count": 79
        }
      ]
    },
    {
      "cell_type": "code",
      "metadata": {
        "id": "VuAGXsmnwglR",
        "colab_type": "code",
        "colab": {},
        "outputId": "97aaae6b-6c83-4a24-e620-854050f77d88"
      },
      "source": [
        "print('\\x1b[1;03;31;44m'+'Import Libraries for Visualization')\n",
        "import matplotlib.pyplot as plt\n",
        "import seaborn as sns\n",
        "%matplotlib inline\n",
        "sns.set(color_codes=True)"
      ],
      "execution_count": 0,
      "outputs": [
        {
          "output_type": "stream",
          "text": [
            "\u001b[1;03;31;44mImport Libraries for Visualization\n"
          ],
          "name": "stdout"
        }
      ]
    },
    {
      "cell_type": "code",
      "metadata": {
        "id": "xMLacLWJwglV",
        "colab_type": "code",
        "colab": {},
        "outputId": "e3b14ae6-1d8b-4161-babc-a4c75b37c5fc"
      },
      "source": [
        "print('\\x1b[1;03;31;44m'+'Drop NA Values')\n",
        "variable.dropna(inplace=True)"
      ],
      "execution_count": 0,
      "outputs": [
        {
          "output_type": "stream",
          "text": [
            "\u001b[1;03;31;44mDrop NA Values\n"
          ],
          "name": "stdout"
        }
      ]
    },
    {
      "cell_type": "code",
      "metadata": {
        "id": "NY-zMbYYwglX",
        "colab_type": "code",
        "colab": {},
        "outputId": "e883f931-31b3-4825-c554-b26bd446a807"
      },
      "source": [
        "print('\\x1b[1;03;31;44m'+'All Null Values are Cleaned')\n",
        "variable.info()"
      ],
      "execution_count": 0,
      "outputs": [
        {
          "output_type": "stream",
          "text": [
            "\u001b[1;03;31;44mAll Null Values are Cleaned\n",
            "<class 'pandas.core.frame.DataFrame'>\n",
            "Int64Index: 768 entries, 0 to 767\n",
            "Data columns (total 9 columns):\n",
            "Pregnancies                 768 non-null int64\n",
            "Glucose                     768 non-null int64\n",
            "BloodPressure               768 non-null int64\n",
            "SkinThickness               768 non-null int64\n",
            "Insulin                     768 non-null int64\n",
            "BMI                         768 non-null float64\n",
            "DiabetesPedigreeFunction    768 non-null float64\n",
            "Age                         768 non-null int64\n",
            "Outcome                     768 non-null int64\n",
            "dtypes: float64(2), int64(7)\n",
            "memory usage: 60.0 KB\n"
          ],
          "name": "stdout"
        }
      ]
    },
    {
      "cell_type": "code",
      "metadata": {
        "id": "YIUelZ1xwgla",
        "colab_type": "code",
        "colab": {},
        "outputId": "96b04818-d728-47bf-92cd-e97c411a6463"
      },
      "source": [
        "print('\\x1b[1;03;31;44m'+'Display Distribution Chart')\n",
        "sns.distplot(variable['DiabetesPedigreeFunction'])\n",
        "plt.show()"
      ],
      "execution_count": 0,
      "outputs": [
        {
          "output_type": "stream",
          "text": [
            "\u001b[1;03;31;44mDisplay Distribution Chart\n"
          ],
          "name": "stdout"
        },
        {
          "output_type": "display_data",
          "data": {
            "image/png": "[encoded data removed]",
            "text/plain": [
              "<matplotlib.figure.Figure at 0x4434ce2b38>"
            ]
          },
          "metadata": {
            "tags": []
          }
        }
      ]
    },
    {
      "cell_type": "code",
      "metadata": {
        "id": "JZOfJRorwglc",
        "colab_type": "code",
        "colab": {},
        "outputId": "671d95e3-a0ae-4a44-fdda-3b43adf5d7fe"
      },
      "source": [
        "print('\\x1b[1;03;31;44m'+'Display Distribution Chart for BMI')\n",
        "sns.distplot(variable['BMI'])\n",
        "plt.show()"
      ],
      "execution_count": 0,
      "outputs": [
        {
          "output_type": "stream",
          "text": [
            "\u001b[1;03;31;44mDisplay Distribution Chart for BMI\n"
          ],
          "name": "stdout"
        },
        {
          "output_type": "display_data",
          "data": {
            "image/png": "[encoded data removed]",
            "text/plain": [
              "<matplotlib.figure.Figure at 0x443663dc18>"
            ]
          },
          "metadata": {
            "tags": []
          }
        }
      ]
    },
    {
      "cell_type": "code",
      "metadata": {
        "id": "o9Sa4VVFwgle",
        "colab_type": "code",
        "colab": {},
        "outputId": "e0cc20f5-5180-43a2-cd7a-a7340de9a176"
      },
      "source": [
        "print('\\x1b[1;03;31;44m'+'Find out Linear Relationship between Age and Pregnancies ')\n",
        "sns.jointplot(variable['Pregnancies'],variable['Age'])\n",
        "plt.show()"
      ],
      "execution_count": 0,
      "outputs": [
        {
          "output_type": "stream",
          "text": [
            "\u001b[1;03;31;44mFind out Linear Relationship between Age and Pregnancies \n"
          ],
          "name": "stdout"
        },
        {
          "output_type": "display_data",
          "data": {
            "image/png": "[encoded data removed]",
            "text/plain": [
              "<matplotlib.figure.Figure at 0x443673dda0>"
            ]
          },
          "metadata": {
            "tags": []
          }
        }
      ]
    },
    {
      "cell_type": "code",
      "metadata": {
        "id": "yedUJjRXwgli",
        "colab_type": "code",
        "colab": {},
        "outputId": "da5ede48-5f13-4338-9673-c69da19f5100"
      },
      "source": [
        "print('\\x1b[1;03;31;44m'+'Find out Linear Relationship between Age and Blood Pressure ')\n",
        "sns.jointplot(variable['BloodPressure'],variable['Age'])\n",
        "plt.show()"
      ],
      "execution_count": 0,
      "outputs": [
        {
          "output_type": "display_data",
          "data": {
            "image/png": "[encoded data removed]",
            "text/plain": [
              "<matplotlib.figure.Figure at 0x4434cfd978>"
            ]
          },
          "metadata": {
            "tags": []
          }
        }
      ]
    },
    {
      "cell_type": "code",
      "metadata": {
        "id": "07wQecxVwglk",
        "colab_type": "code",
        "colab": {},
        "outputId": "1c2bba7a-0970-4abe-ad00-95f9cd2161b4"
      },
      "source": [
        "print('\\x1b[1;03;31;44m'+'Find out Correlation between BMI, Age and Pregnancies ')\n",
        "sns.pairplot(variable[['Pregnancies','Age','BMI']])"
      ],
      "execution_count": 0,
      "outputs": [
        {
          "output_type": "stream",
          "text": [
            "\u001b[1;03;31;44mFind out Correlation between BMI, Age and Pregnancies \n"
          ],
          "name": "stdout"
        },
        {
          "output_type": "execute_result",
          "data": {
            "text/plain": [
              "<seaborn.axisgrid.PairGrid at 0x443689fc18>"
            ]
          },
          "metadata": {
            "tags": []
          },
          "execution_count": 60
        },
        {
          "output_type": "display_data",
          "data": {
            "image/png": "[encoded data removed]",
            "text/plain": [
              "<matplotlib.figure.Figure at 0x443689fa58>"
            ]
          },
          "metadata": {
            "tags": []
          }
        }
      ]
    },
    {
      "cell_type": "code",
      "metadata": {
        "id": "Jj3GNjukwgln",
        "colab_type": "code",
        "colab": {},
        "outputId": "7f8393e1-4e78-4329-9ef7-1a1f4ee45c5c"
      },
      "source": [
        "print('\\x1b[1;03;31;44m'+'Find out Distribution between Age and Pregnancies ')\n",
        "sns.stripplot(variable['Pregnancies'],variable['Age'],jitter=True)"
      ],
      "execution_count": 0,
      "outputs": [
        {
          "output_type": "stream",
          "text": [
            "\u001b[1;03;31;44mFind out Distribution between Age and Pregnancies \n"
          ],
          "name": "stdout"
        },
        {
          "output_type": "execute_result",
          "data": {
            "text/plain": [
              "<matplotlib.axes._subplots.AxesSubplot at 0x4436683f60>"
            ]
          },
          "metadata": {
            "tags": []
          },
          "execution_count": 61
        },
        {
          "output_type": "display_data",
          "data": {
            "image/png": "[encoded data removed]",
            "text/plain": [
              "<matplotlib.figure.Figure at 0x4436649e48>"
            ]
          },
          "metadata": {
            "tags": []
          }
        }
      ]
    },
    {
      "cell_type": "code",
      "metadata": {
        "id": "w5jzKVuAwglp",
        "colab_type": "code",
        "colab": {},
        "outputId": "3b34977a-14b1-4b32-e836-9a11f3c3be2e"
      },
      "source": [
        "print('\\x1b[1;03;31;44m'+'Linear Relationship between BP and DiabetesPedigreeFunction when Age >40')\n",
        "sns.regplot(x=\"BloodPressure\",y=\"DiabetesPedigreeFunction\",data=variable[variable['Age']>40])"
      ],
      "execution_count": 0,
      "outputs": [
        {
          "output_type": "stream",
          "text": [
            "\u001b[1;03;31;44mLinear Relationship between BP and DiabetesPedigreeFunction when Age >40\n"
          ],
          "name": "stdout"
        },
        {
          "output_type": "execute_result",
          "data": {
            "text/plain": [
              "<matplotlib.axes._subplots.AxesSubplot at 0x443728d6d8>"
            ]
          },
          "metadata": {
            "tags": []
          },
          "execution_count": 62
        },
        {
          "output_type": "display_data",
          "data": {
            "image/png": "[encoded data removed]",
            "text/plain": [
              "<matplotlib.figure.Figure at 0x44372a27b8>"
            ]
          },
          "metadata": {
            "tags": []
          }
        }
      ]
    },
    {
      "cell_type": "code",
      "metadata": {
        "id": "pfGTlDpFwglr",
        "colab_type": "code",
        "colab": {},
        "outputId": "67cf5fc0-7890-4ec7-c99d-6aed6f924c28"
      },
      "source": [
        "print('\\x1b[1;03;31;44m'+'Linear Relationship between BP and Pregnancies when Age >40')\n",
        "sns.regplot(x=\"BloodPressure\",y=\"Pregnancies\",data=variable[variable['Age']>40])"
      ],
      "execution_count": 0,
      "outputs": [
        {
          "output_type": "stream",
          "text": [
            "\u001b[1;03;31;44mLinear Relationship between BP and DiabetesPedigreeFunction when Age >40\n"
          ],
          "name": "stdout"
        },
        {
          "output_type": "execute_result",
          "data": {
            "text/plain": [
              "<matplotlib.axes._subplots.AxesSubplot at 0x4434855198>"
            ]
          },
          "metadata": {
            "tags": []
          },
          "execution_count": 51
        },
        {
          "output_type": "display_data",
          "data": {
            "image/png": "[encoded data removed]",
            "text/plain": [
              "<matplotlib.figure.Figure at 0x4434cd7550>"
            ]
          },
          "metadata": {
            "tags": []
          }
        }
      ]
    }
  ]
}