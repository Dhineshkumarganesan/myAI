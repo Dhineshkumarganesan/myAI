{
  "nbformat": 4,
  "nbformat_minor": 0,
  "metadata": {
    "colab": {
      "name": "FaceRecognition_new.ipynb",
      "provenance": [],
      "private_outputs": true,
      "collapsed_sections": [],
      "toc_visible": true
    },
    "kernelspec": {
      "name": "python3",
      "display_name": "Python 3"
    },
    "accelerator": "GPU"
  },
  "cells": [
    {
      "cell_type": "markdown",
      "metadata": {
        "id": "21Js01IgqT21",
        "colab_type": "text"
      },
      "source": [
        "**Face recognition**\n",
        "\n",
        "Task is to recognize a faces\n",
        "\n",
        "**Dataset**\n",
        "\n",
        "Aligned Face Dataset from Pinterest\n",
        "\n",
        "This dataset contains 10.770 images for 100 people. All images are taken from 'Pinterest' and aligned using dlib library."
      ]
    },
    {
      "cell_type": "code",
      "metadata": {
        "id": "nvBWtw0qqSAq",
        "colab_type": "code",
        "colab": {}
      },
      "source": [
        "import os\n",
        "\n",
        "working_dir = '/content/drive/My Drive/FaceDetectionRecognition'\n",
        "os.chdir(working_dir)"
      ],
      "execution_count": 0,
      "outputs": []
    },
    {
      "cell_type": "code",
      "metadata": {
        "id": "H5c3JAzhmP4u",
        "colab_type": "code",
        "colab": {}
      },
      "source": [
        "from google.colab import drive\n",
        "drive.mount('/content/drive')"
      ],
      "execution_count": 0,
      "outputs": []
    },
    {
      "cell_type": "code",
      "metadata": {
        "id": "0mNLpxgKVahb",
        "colab_type": "code",
        "colab": {}
      },
      "source": [
        "import zipfile"
      ],
      "execution_count": 0,
      "outputs": []
    },
    {
      "cell_type": "code",
      "metadata": {
        "id": "tM-5nFDWVbHn",
        "colab_type": "code",
        "colab": {}
      },
      "source": [
        "zip_file_dir = working_dir+'/Aligned Face Dataset from Pinterest.zip'"
      ],
      "execution_count": 0,
      "outputs": []
    },
    {
      "cell_type": "code",
      "metadata": {
        "id": "bi0bYzDuVdKF",
        "colab_type": "code",
        "colab": {}
      },
      "source": [
        "#extracted = zipfile.ZipFile(zip_file_dir, 'r')\n",
        "#extracted.extractall(path=working_dir)\n",
        "\n"
      ],
      "execution_count": 0,
      "outputs": []
    },
    {
      "cell_type": "code",
      "metadata": {
        "id": "HmAP4tKiZOEg",
        "colab_type": "code",
        "colab": {}
      },
      "source": [
        "ls"
      ],
      "execution_count": 0,
      "outputs": []
    },
    {
      "cell_type": "code",
      "metadata": {
        "id": "ZHZV0aV4V1u0",
        "colab_type": "code",
        "colab": {}
      },
      "source": [
        "import numpy as np\n",
        "import os"
      ],
      "execution_count": 0,
      "outputs": []
    },
    {
      "cell_type": "code",
      "metadata": {
        "id": "ouNJstdKV4Wk",
        "colab_type": "code",
        "colab": {}
      },
      "source": [
        "class IdentityMetadata():\n",
        "    def __init__(self, base, name, file):\n",
        "        # print(base, name, file)\n",
        "        # dataset base directory\n",
        "        self.base = base\n",
        "        # identity name\n",
        "        self.name = name\n",
        "        # image file name\n",
        "        self.file = file\n",
        "\n",
        "    def __repr__(self):\n",
        "        return self.image_path()\n",
        "\n",
        "    def image_path(self):\n",
        "        return os.path.join(self.base, self.name, self.file) "
      ],
      "execution_count": 0,
      "outputs": []
    },
    {
      "cell_type": "code",
      "metadata": {
        "id": "vxNTfwWbV6qY",
        "colab_type": "code",
        "colab": {}
      },
      "source": [
        "def load_metadata(path):\n",
        "    metadata = []\n",
        "    for i in os.listdir(path):\n",
        "        for f in os.listdir(os.path.join(path, i)):\n",
        "            # Check file extension. Allow only jpg/jpeg' files.\n",
        "            ext = os.path.splitext(f)[1]\n",
        "            if ext == '.jpg' or ext == '.jpeg':\n",
        "                metadata.append(IdentityMetadata(path, i, f))\n",
        "    return np.array(metadata)\n",
        "\n"
      ],
      "execution_count": 0,
      "outputs": []
    },
    {
      "cell_type": "code",
      "metadata": {
        "id": "vkVhTPJgV_SV",
        "colab_type": "code",
        "colab": {}
      },
      "source": [
        "metadata = load_metadata('PINS')"
      ],
      "execution_count": 0,
      "outputs": []
    },
    {
      "cell_type": "code",
      "metadata": {
        "id": "3V7pe8VJWJdM",
        "colab_type": "code",
        "colab": {}
      },
      "source": [
        "metadata[[0,200,1000]]"
      ],
      "execution_count": 0,
      "outputs": []
    },
    {
      "cell_type": "code",
      "metadata": {
        "id": "Q3DRVJJsWRMA",
        "colab_type": "code",
        "colab": {}
      },
      "source": [
        "print(metadata[200].base)\n",
        "print(metadata[200].name)\n",
        "print(metadata[200].file)"
      ],
      "execution_count": 0,
      "outputs": []
    },
    {
      "cell_type": "code",
      "metadata": {
        "id": "YJYD3KK5WUk4",
        "colab_type": "code",
        "colab": {}
      },
      "source": [
        "import cv2\n",
        "def load_image(path):\n",
        "    img = cv2.imread(path, 1)\n",
        "    # OpenCV loads images with color channels\n",
        "    # in BGR order. So we need to reverse them\n",
        "    return img[...,::-1]"
      ],
      "execution_count": 0,
      "outputs": []
    },
    {
      "cell_type": "code",
      "metadata": {
        "id": "do7zm-t-WVuI",
        "colab_type": "code",
        "colab": {}
      },
      "source": [
        "import matplotlib.pyplot as plt\n",
        "%matplotlib inline"
      ],
      "execution_count": 0,
      "outputs": []
    },
    {
      "cell_type": "code",
      "metadata": {
        "id": "faxAls2MWa6x",
        "colab_type": "code",
        "colab": {}
      },
      "source": [
        "img1 = load_image(metadata[200].image_path())\n",
        "\n",
        "plt.imshow(img1)"
      ],
      "execution_count": 0,
      "outputs": []
    },
    {
      "cell_type": "code",
      "metadata": {
        "id": "N9piDqjPWb2D",
        "colab_type": "code",
        "colab": {}
      },
      "source": [
        "from tensorflow.keras.models import Sequential\n",
        "from tensorflow.keras.layers import ZeroPadding2D, Convolution2D, MaxPooling2D, Dropout, Flatten, Activation\n",
        "\n",
        "def vgg_face():\t\n",
        "    model = Sequential()\n",
        "    model.add(ZeroPadding2D((1,1),input_shape=(224,224, 3)))\n",
        "    model.add(Convolution2D(64, (3, 3), activation='relu'))\n",
        "    model.add(ZeroPadding2D((1,1)))\n",
        "    model.add(Convolution2D(64, (3, 3), activation='relu'))\n",
        "    model.add(MaxPooling2D((2,2), strides=(2,2)))\n",
        "    \n",
        "    model.add(ZeroPadding2D((1,1)))\n",
        "    model.add(Convolution2D(128, (3, 3), activation='relu'))\n",
        "    model.add(ZeroPadding2D((1,1)))\n",
        "    model.add(Convolution2D(128, (3, 3), activation='relu'))\n",
        "    model.add(MaxPooling2D((2,2), strides=(2,2)))\n",
        "    \n",
        "    model.add(ZeroPadding2D((1,1)))\n",
        "    model.add(Convolution2D(256, (3, 3), activation='relu'))\n",
        "    model.add(ZeroPadding2D((1,1)))\n",
        "    model.add(Convolution2D(256, (3, 3), activation='relu'))\n",
        "    model.add(ZeroPadding2D((1,1)))\n",
        "    model.add(Convolution2D(256, (3, 3), activation='relu'))\n",
        "    model.add(MaxPooling2D((2,2), strides=(2,2)))\n",
        "    \n",
        "    model.add(ZeroPadding2D((1,1)))\n",
        "    model.add(Convolution2D(512, (3, 3), activation='relu'))\n",
        "    model.add(ZeroPadding2D((1,1)))\n",
        "    model.add(Convolution2D(512, (3, 3), activation='relu'))\n",
        "    model.add(ZeroPadding2D((1,1)))\n",
        "    model.add(Convolution2D(512, (3, 3), activation='relu'))\n",
        "    model.add(MaxPooling2D((2,2), strides=(2,2)))\n",
        "    \n",
        "    model.add(ZeroPadding2D((1,1)))\n",
        "    model.add(Convolution2D(512, (3, 3), activation='relu'))\n",
        "    model.add(ZeroPadding2D((1,1)))\n",
        "    model.add(Convolution2D(512, (3, 3), activation='relu'))\n",
        "    model.add(ZeroPadding2D((1,1)))\n",
        "    model.add(Convolution2D(512, (3, 3), activation='relu'))\n",
        "    model.add(MaxPooling2D((2,2), strides=(2,2)))\n",
        "    \n",
        "    model.add(Convolution2D(4096, (7, 7), activation='relu'))\n",
        "    model.add(Dropout(0.5))\n",
        "    model.add(Convolution2D(4096, (1, 1), activation='relu'))\n",
        "    model.add(Dropout(0.5))\n",
        "    model.add(Convolution2D(2622, (1, 1)))\n",
        "    model.add(Flatten())\n",
        "    model.add(Activation('softmax'))\n",
        "    return model"
      ],
      "execution_count": 0,
      "outputs": []
    },
    {
      "cell_type": "code",
      "metadata": {
        "id": "Fbt-sps9Wh3V",
        "colab_type": "code",
        "colab": {}
      },
      "source": [
        "model = vgg_face()"
      ],
      "execution_count": 0,
      "outputs": []
    },
    {
      "cell_type": "code",
      "metadata": {
        "id": "Qvt_adUsWkbX",
        "colab_type": "code",
        "colab": {}
      },
      "source": [
        "model.summary()"
      ],
      "execution_count": 0,
      "outputs": []
    },
    {
      "cell_type": "code",
      "metadata": {
        "id": "MlaeGHuDWl7v",
        "colab_type": "code",
        "colab": {}
      },
      "source": [
        "weight_file = 'vgg_face_weights.h5'\n",
        "\n",
        "model.load_weights(weight_file)"
      ],
      "execution_count": 0,
      "outputs": []
    },
    {
      "cell_type": "code",
      "metadata": {
        "id": "QxR4r91UWvJQ",
        "colab_type": "code",
        "colab": {}
      },
      "source": [
        "from tensorflow.keras.models import Model\n",
        "vgg_face_descriptor = Model(inputs=model.layers[0].input, outputs=model.layers[-2].output)"
      ],
      "execution_count": 0,
      "outputs": []
    },
    {
      "cell_type": "code",
      "metadata": {
        "id": "f_UeeuxzWyGL",
        "colab_type": "code",
        "colab": {}
      },
      "source": [
        "img_path = metadata[0].image_path()\n",
        "img = load_image(img_path)"
      ],
      "execution_count": 0,
      "outputs": []
    },
    {
      "cell_type": "code",
      "metadata": {
        "id": "kJ6S3ZyXW1PW",
        "colab_type": "code",
        "colab": {}
      },
      "source": [
        "img = (img / 255.).astype(np.float32)\n",
        "\n",
        "img = cv2.resize(img, dsize = (224,224))\n",
        "print(img.shape)"
      ],
      "execution_count": 0,
      "outputs": []
    },
    {
      "cell_type": "code",
      "metadata": {
        "id": "I2PDlVvDW4Q6",
        "colab_type": "code",
        "colab": {}
      },
      "source": [
        "embedding_vector = vgg_face_descriptor.predict(np.expand_dims(img, axis=0))[0]\n",
        "print(embedding_vector.shape)"
      ],
      "execution_count": 0,
      "outputs": []
    },
    {
      "cell_type": "code",
      "metadata": {
        "id": "uMCClKUvW7HT",
        "colab_type": "code",
        "colab": {}
      },
      "source": [
        "metadata.shape"
      ],
      "execution_count": 0,
      "outputs": []
    },
    {
      "cell_type": "code",
      "metadata": {
        "id": "o83M4SWCW_gb",
        "colab_type": "code",
        "colab": {}
      },
      "source": [
        "embeddings = []\n",
        "embeddings = np.zeros((metadata.shape[0], 2622))"
      ],
      "execution_count": 0,
      "outputs": []
    },
    {
      "cell_type": "code",
      "metadata": {
        "id": "uKI4wxffXD7U",
        "colab_type": "code",
        "colab": {}
      },
      "source": [
        "for i, m in enumerate(metadata):\n",
        "  try:\n",
        "    # img_path = metadata[i].image_path()\n",
        "    img_path = m.image_path()\n",
        "    img = load_image(img_path)\n",
        "    img = (img/255.).astype(np.float32)\n",
        "    img = cv2.resize(img, dsize=(224,224))\n",
        "\n",
        "    embeddings[i] = vgg_face_descriptor.predict(np.expand_dims(img, axis=0))[0]\n",
        "  except:\n",
        "    print(i, m)\n",
        "\n",
        "print(embeddings[300])"
      ],
      "execution_count": 0,
      "outputs": []
    },
    {
      "cell_type": "code",
      "metadata": {
        "id": "W5Ukb4MMXGyc",
        "colab_type": "code",
        "colab": {}
      },
      "source": [
        "embeddings[99]"
      ],
      "execution_count": 0,
      "outputs": []
    },
    {
      "cell_type": "code",
      "metadata": {
        "id": "0ML6H-1sXKic",
        "colab_type": "code",
        "colab": {}
      },
      "source": [
        "def distance(emb1, emb2):\n",
        "    return np.sum(np.square(emb1 - emb2))"
      ],
      "execution_count": 0,
      "outputs": []
    },
    {
      "cell_type": "code",
      "metadata": {
        "id": "zVZEw67OXRaw",
        "colab_type": "code",
        "colab": {}
      },
      "source": [
        "import matplotlib.pyplot as plt\n",
        "\n",
        "def show_pair(idx1, idx2):\n",
        "    plt.figure(figsize=(8,3))\n",
        "    plt.suptitle(f'Distance = {distance(embeddings[idx1], embeddings[idx2]):.2f}')\n",
        "    plt.subplot(121)\n",
        "    plt.imshow(load_image(metadata[idx1].image_path()))\n",
        "    plt.subplot(122)\n",
        "    plt.imshow(load_image(metadata[idx2].image_path()));    \n",
        "\n"
      ],
      "execution_count": 0,
      "outputs": []
    },
    {
      "cell_type": "code",
      "metadata": {
        "id": "xh_XfOGJXT0T",
        "colab_type": "code",
        "colab": {}
      },
      "source": [
        "show_pair(0, 3)\n",
        "show_pair(0, 200)\n",
        "show_pair(70, 72)\n",
        "show_pair(70, 115)"
      ],
      "execution_count": 0,
      "outputs": []
    },
    {
      "cell_type": "code",
      "metadata": {
        "id": "fjL7WV2_Xc1t",
        "colab_type": "code",
        "colab": {}
      },
      "source": [
        "train_idx = np.arange(metadata.shape[0]) % 9 != 0\n",
        "test_idx = np.arange(metadata.shape[0]) % 9 == 0"
      ],
      "execution_count": 0,
      "outputs": []
    },
    {
      "cell_type": "code",
      "metadata": {
        "id": "TLJGdoUUXd2X",
        "colab_type": "code",
        "colab": {}
      },
      "source": [
        "X_train = embeddings[train_idx]\n",
        "X_test = embeddings[test_idx]\n",
        "\n",
        "targets = np.array([m.name for m in metadata])\n",
        "\n",
        "y_train = targets[train_idx]\n",
        "y_test = targets[test_idx]"
      ],
      "execution_count": 0,
      "outputs": []
    },
    {
      "cell_type": "code",
      "metadata": {
        "id": "izSQUqtGXVs_",
        "colab_type": "code",
        "colab": {}
      },
      "source": [
        "print(metadata.shape)\n",
        "print(train_idx.shape)\n",
        "print(X_train.shape)\n",
        "print(y_train.shape)\n",
        "print(X_test.shape)\n",
        "print(y_test.shape)"
      ],
      "execution_count": 0,
      "outputs": []
    },
    {
      "cell_type": "code",
      "metadata": {
        "id": "Dcm30tJsXke9",
        "colab_type": "code",
        "colab": {}
      },
      "source": [
        "from sklearn.preprocessing import LabelEncoder\n",
        "le = LabelEncoder()"
      ],
      "execution_count": 0,
      "outputs": []
    },
    {
      "cell_type": "code",
      "metadata": {
        "id": "L_ktxdoXXsd-",
        "colab_type": "code",
        "colab": {}
      },
      "source": [
        "y = le.fit_transform(targets)\n",
        "y_train = y[train_idx]\n",
        "y_test = y[test_idx]"
      ],
      "execution_count": 0,
      "outputs": []
    },
    {
      "cell_type": "code",
      "metadata": {
        "id": "4UsvhAZTXy24",
        "colab_type": "code",
        "colab": {}
      },
      "source": [
        "y_train[1]"
      ],
      "execution_count": 0,
      "outputs": []
    },
    {
      "cell_type": "code",
      "metadata": {
        "id": "thCsJ_HeX1G5",
        "colab_type": "code",
        "colab": {}
      },
      "source": [
        "print(y_train.shape)\n",
        "print(y_test.shape)"
      ],
      "execution_count": 0,
      "outputs": []
    },
    {
      "cell_type": "code",
      "metadata": {
        "id": "u0dtNakDX5IQ",
        "colab_type": "code",
        "colab": {}
      },
      "source": [
        "from sklearn.preprocessing import StandardScaler"
      ],
      "execution_count": 0,
      "outputs": []
    },
    {
      "cell_type": "code",
      "metadata": {
        "id": "wfKjrCF_X9Uz",
        "colab_type": "code",
        "colab": {}
      },
      "source": [
        "ss = StandardScaler()"
      ],
      "execution_count": 0,
      "outputs": []
    },
    {
      "cell_type": "code",
      "metadata": {
        "id": "uMAlOjGxX_f6",
        "colab_type": "code",
        "colab": {}
      },
      "source": [
        "X_train_std = ss.fit_transform(X_train)\n",
        "X_test_std = ss.fit_transform(X_test)"
      ],
      "execution_count": 0,
      "outputs": []
    },
    {
      "cell_type": "code",
      "metadata": {
        "id": "bj3rChiNYD5o",
        "colab_type": "code",
        "colab": {}
      },
      "source": [
        "from sklearn.decomposition import PCA"
      ],
      "execution_count": 0,
      "outputs": []
    },
    {
      "cell_type": "code",
      "metadata": {
        "id": "-LQZAw0fYI0M",
        "colab_type": "code",
        "colab": {}
      },
      "source": [
        "cov_matrix = np.cov(X_train_std.T)\n",
        "print('Covariance Matrix \\n%s', cov_matrix)"
      ],
      "execution_count": 0,
      "outputs": []
    },
    {
      "cell_type": "code",
      "metadata": {
        "id": "Q7QMOxVHYLQv",
        "colab_type": "code",
        "colab": {}
      },
      "source": [
        "X_train_std.shape"
      ],
      "execution_count": 0,
      "outputs": []
    },
    {
      "cell_type": "code",
      "metadata": {
        "id": "jn2ii4lYYNKb",
        "colab_type": "code",
        "colab": {}
      },
      "source": [
        "pca = PCA().fit(X_train_std)"
      ],
      "execution_count": 0,
      "outputs": []
    },
    {
      "cell_type": "code",
      "metadata": {
        "id": "6ePk_QyOYPnT",
        "colab_type": "code",
        "colab": {}
      },
      "source": [
        "plt.plot(np.cumsum(pca.explained_variance_ratio_))"
      ],
      "execution_count": 0,
      "outputs": []
    },
    {
      "cell_type": "code",
      "metadata": {
        "id": "4dR060RKYYdJ",
        "colab_type": "code",
        "colab": {}
      },
      "source": [
        "pca1 = PCA(n_components=150)\n",
        "pca1.fit(X_train_std)\n",
        "\n",
        "X_train_s = pca1.transform(X_train_std)\n",
        "X_test_s = pca1.transform(X_test_std)"
      ],
      "execution_count": 0,
      "outputs": []
    },
    {
      "cell_type": "code",
      "metadata": {
        "id": "eulCBB5HYdk6",
        "colab_type": "code",
        "colab": {}
      },
      "source": [
        "print(X_train_s.shape)\n",
        "print(X_test_s.shape)"
      ],
      "execution_count": 0,
      "outputs": []
    },
    {
      "cell_type": "code",
      "metadata": {
        "id": "QyJQKfUUYgHg",
        "colab_type": "code",
        "colab": {}
      },
      "source": [
        "from sklearn.svm import SVC"
      ],
      "execution_count": 0,
      "outputs": []
    },
    {
      "cell_type": "code",
      "metadata": {
        "id": "b6GlVh2XYhhP",
        "colab_type": "code",
        "colab": {}
      },
      "source": [
        "svm_model = SVC(C=0.01, kernel='linear')"
      ],
      "execution_count": 0,
      "outputs": []
    },
    {
      "cell_type": "code",
      "metadata": {
        "id": "_B-ti2pHYluM",
        "colab_type": "code",
        "colab": {}
      },
      "source": [
        "svm_model.fit(X_train_s, y_train)"
      ],
      "execution_count": 0,
      "outputs": []
    },
    {
      "cell_type": "code",
      "metadata": {
        "id": "sfGlA1mjYn-c",
        "colab_type": "code",
        "colab": {}
      },
      "source": [
        "from sklearn.metrics import accuracy_score"
      ],
      "execution_count": 0,
      "outputs": []
    },
    {
      "cell_type": "code",
      "metadata": {
        "id": "j5dZT7-SYqTg",
        "colab_type": "code",
        "colab": {}
      },
      "source": [
        "accu = accuracy_score(y_test, svm_model.predict(X_test_s))\n",
        "\n",
        "print(f'SVM accuracy = {accu}')\n"
      ],
      "execution_count": 0,
      "outputs": []
    },
    {
      "cell_type": "code",
      "metadata": {
        "id": "1vd2389uYrWm",
        "colab_type": "code",
        "colab": {}
      },
      "source": [
        "from sklearn.model_selection import cross_val_score"
      ],
      "execution_count": 0,
      "outputs": []
    },
    {
      "cell_type": "code",
      "metadata": {
        "id": "MEWaoU9eY08W",
        "colab_type": "code",
        "colab": {}
      },
      "source": [
        "# scores = cross_val_score(svm_model, X_test_s, y_test, cv=10)\n",
        "\n",
        "# print(scores)"
      ],
      "execution_count": 0,
      "outputs": []
    },
    {
      "cell_type": "code",
      "metadata": {
        "id": "_pCyiCWHY7FL",
        "colab_type": "code",
        "colab": {}
      },
      "source": [
        "import warnings"
      ],
      "execution_count": 0,
      "outputs": []
    },
    {
      "cell_type": "code",
      "metadata": {
        "id": "9Q00GMupY9pq",
        "colab_type": "code",
        "colab": {}
      },
      "source": [
        "warnings.filterwarnings('ignore')"
      ],
      "execution_count": 0,
      "outputs": []
    },
    {
      "cell_type": "code",
      "metadata": {
        "id": "lmQj6sixY_SO",
        "colab_type": "code",
        "colab": {}
      },
      "source": [
        "example_idx = 10\n",
        "test = [embeddings[test_idx][example_idx]]\n",
        "test = pca1.transform(test)\n",
        "example_image = load_image(metadata[test_idx][example_idx].image_path())\n",
        "example_prediction = svm_model.predict(test)\n",
        "example_identity = le.inverse_transform(example_prediction)[0]\n",
        "\n",
        "plt.imshow(example_image)\n",
        "plt.title(f'Identified as {example_identity}');"
      ],
      "execution_count": 0,
      "outputs": []
    },
    {
      "cell_type": "code",
      "metadata": {
        "id": "qbn1upVSZCJg",
        "colab_type": "code",
        "colab": {}
      },
      "source": [
        "import warnings\n",
        "warnings.filterwarnings('ignore')"
      ],
      "execution_count": 0,
      "outputs": []
    },
    {
      "cell_type": "code",
      "metadata": {
        "id": "1SXKi2hZZGG5",
        "colab_type": "code",
        "colab": {}
      },
      "source": [
        "\n",
        "example_idx = 49\n",
        "temp = [embeddings[test_idx][example_idx]]\n",
        "temp = pca1.transform(temp)\n",
        "example_image = load_image(metadata[test_idx][example_idx].image_path())\n",
        "example_prediction = svm_model.predict(temp)\n",
        "example_identity = le.inverse_transform(example_prediction)[0]\n"
      ],
      "execution_count": 0,
      "outputs": []
    },
    {
      "cell_type": "code",
      "metadata": {
        "id": "PXznwdhgZHUD",
        "colab_type": "code",
        "colab": {}
      },
      "source": [
        "plt.imshow(example_image)\n",
        "plt.title(f'Identified as {example_identity}');"
      ],
      "execution_count": 0,
      "outputs": []
    },
    {
      "cell_type": "code",
      "metadata": {
        "id": "xeNohx1dqo1g",
        "colab_type": "code",
        "colab": {}
      },
      "source": [
        "import warnings\n",
        "warnings.filterwarnings('ignore')\n",
        "\n",
        "example_idx = 130\n",
        "temp = [embeddings[test_idx][example_idx]]\n",
        "temp = pca1.transform(temp)\n",
        "example_image = load_image(metadata[test_idx][example_idx].image_path())\n",
        "example_prediction = svm_model.predict(temp)\n",
        "example_identity = le.inverse_transform(example_prediction)[0]\n",
        "\n",
        "plt.imshow(example_image)\n",
        "plt.title(f'Identified as {example_identity}');"
      ],
      "execution_count": 0,
      "outputs": []
    }
  ]
}