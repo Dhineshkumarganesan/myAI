{
  "nbformat": 4,
  "nbformat_minor": 0,
  "metadata": {
    "kernelspec": {
      "display_name": "Python 3",
      "language": "python",
      "name": "python3"
    },
    "language_info": {
      "codemirror_mode": {
        "name": "ipython",
        "version": 3
      },
      "file_extension": ".py",
      "mimetype": "text/x-python",
      "name": "python",
      "nbconvert_exporter": "python",
      "pygments_lexer": "ipython3",
      "version": "3.7.0"
    },
    "colab": {
      "name": "HypothesisTesting.ipynb",
      "provenance": [],
      "collapsed_sections": []
    }
  },
  "cells": [
    {
      "cell_type": "code",
      "metadata": {
        "id": "AJNB9TXJyf-1",
        "colab_type": "code",
        "colab": {}
      },
      "source": [
        "#Load Libraries\n",
        "import numpy as np\n",
        "from scipy.stats import ttest_1samp, ttest_ind,mannwhitneyu,levene,shapiro,wilcoxon,chisquare,chi2_contingency\n",
        "from statsmodels.stats.power import ttest_power\n",
        "import pandas as pd\n",
        "import matplotlib.pyplot as plt"
      ],
      "execution_count": 0,
      "outputs": []
    },
    {
      "cell_type": "code",
      "metadata": {
        "id": "AVnQqH9cyf-7",
        "colab_type": "code",
        "colab": {},
        "outputId": "f6be5c66-bfbb-4a69-9ea3-bd4a40c355b0"
      },
      "source": [
        "mydata = pd.read_csv(\"ParGolf.csv\")\n",
        "mydata.head()"
      ],
      "execution_count": 0,
      "outputs": [
        {
          "output_type": "execute_result",
          "data": {
            "text/html": [
              "<div>\n",
              "<style scoped>\n",
              "    .dataframe tbody tr th:only-of-type {\n",
              "        vertical-align: middle;\n",
              "    }\n",
              "\n",
              "    .dataframe tbody tr th {\n",
              "        vertical-align: top;\n",
              "    }\n",
              "\n",
              "    .dataframe thead th {\n",
              "        text-align: right;\n",
              "    }\n",
              "</style>\n",
              "<table border=\"1\" class=\"dataframe\">\n",
              "  <thead>\n",
              "    <tr style=\"text-align: right;\">\n",
              "      <th></th>\n",
              "      <th>Current</th>\n",
              "      <th>New</th>\n",
              "    </tr>\n",
              "  </thead>\n",
              "  <tbody>\n",
              "    <tr>\n",
              "      <th>0</th>\n",
              "      <td>264</td>\n",
              "      <td>277</td>\n",
              "    </tr>\n",
              "    <tr>\n",
              "      <th>1</th>\n",
              "      <td>261</td>\n",
              "      <td>269</td>\n",
              "    </tr>\n",
              "    <tr>\n",
              "      <th>2</th>\n",
              "      <td>267</td>\n",
              "      <td>263</td>\n",
              "    </tr>\n",
              "    <tr>\n",
              "      <th>3</th>\n",
              "      <td>272</td>\n",
              "      <td>266</td>\n",
              "    </tr>\n",
              "    <tr>\n",
              "      <th>4</th>\n",
              "      <td>258</td>\n",
              "      <td>262</td>\n",
              "    </tr>\n",
              "  </tbody>\n",
              "</table>\n",
              "</div>"
            ],
            "text/plain": [
              "   Current  New\n",
              "0      264  277\n",
              "1      261  269\n",
              "2      267  263\n",
              "3      272  266\n",
              "4      258  262"
            ]
          },
          "metadata": {
            "tags": []
          },
          "execution_count": 109
        }
      ]
    },
    {
      "cell_type": "code",
      "metadata": {
        "id": "a9ZKio3uyf-_",
        "colab_type": "code",
        "colab": {},
        "outputId": "398ce8bb-ede3-4632-80f7-d5524ecf9209"
      },
      "source": [
        "# describe data\n",
        "mydata.describe()"
      ],
      "execution_count": 0,
      "outputs": [
        {
          "output_type": "execute_result",
          "data": {
            "text/html": [
              "<div>\n",
              "<style scoped>\n",
              "    .dataframe tbody tr th:only-of-type {\n",
              "        vertical-align: middle;\n",
              "    }\n",
              "\n",
              "    .dataframe tbody tr th {\n",
              "        vertical-align: top;\n",
              "    }\n",
              "\n",
              "    .dataframe thead th {\n",
              "        text-align: right;\n",
              "    }\n",
              "</style>\n",
              "<table border=\"1\" class=\"dataframe\">\n",
              "  <thead>\n",
              "    <tr style=\"text-align: right;\">\n",
              "      <th></th>\n",
              "      <th>Current</th>\n",
              "      <th>New</th>\n",
              "    </tr>\n",
              "  </thead>\n",
              "  <tbody>\n",
              "    <tr>\n",
              "      <th>count</th>\n",
              "      <td>40.000000</td>\n",
              "      <td>40.000000</td>\n",
              "    </tr>\n",
              "    <tr>\n",
              "      <th>mean</th>\n",
              "      <td>270.275000</td>\n",
              "      <td>267.500000</td>\n",
              "    </tr>\n",
              "    <tr>\n",
              "      <th>std</th>\n",
              "      <td>8.752985</td>\n",
              "      <td>9.896904</td>\n",
              "    </tr>\n",
              "    <tr>\n",
              "      <th>min</th>\n",
              "      <td>255.000000</td>\n",
              "      <td>250.000000</td>\n",
              "    </tr>\n",
              "    <tr>\n",
              "      <th>25%</th>\n",
              "      <td>263.000000</td>\n",
              "      <td>262.000000</td>\n",
              "    </tr>\n",
              "    <tr>\n",
              "      <th>50%</th>\n",
              "      <td>270.000000</td>\n",
              "      <td>265.000000</td>\n",
              "    </tr>\n",
              "    <tr>\n",
              "      <th>75%</th>\n",
              "      <td>275.250000</td>\n",
              "      <td>274.500000</td>\n",
              "    </tr>\n",
              "    <tr>\n",
              "      <th>max</th>\n",
              "      <td>289.000000</td>\n",
              "      <td>289.000000</td>\n",
              "    </tr>\n",
              "  </tbody>\n",
              "</table>\n",
              "</div>"
            ],
            "text/plain": [
              "          Current         New\n",
              "count   40.000000   40.000000\n",
              "mean   270.275000  267.500000\n",
              "std      8.752985    9.896904\n",
              "min    255.000000  250.000000\n",
              "25%    263.000000  262.000000\n",
              "50%    270.000000  265.000000\n",
              "75%    275.250000  274.500000\n",
              "max    289.000000  289.000000"
            ]
          },
          "metadata": {
            "tags": []
          },
          "execution_count": 69
        }
      ]
    },
    {
      "cell_type": "code",
      "metadata": {
        "id": "NFU1iGL6yf_C",
        "colab_type": "code",
        "colab": {}
      },
      "source": [
        "#Null Hypothesis - Mean=265\n",
        "#Alternate Hypothesis - Mean != 265"
      ],
      "execution_count": 0,
      "outputs": []
    },
    {
      "cell_type": "code",
      "metadata": {
        "id": "09Wz8yeSyf_F",
        "colab_type": "code",
        "colab": {}
      },
      "source": [
        "mydata1=np.array([277,269,263,266,262,251,262,289,286,264,274,266,262,271,260,281,250,263,278,264,272,259,264,280,274,281,276,269,268,262,283,250,253,260,270,263,261,255,263,279\n",
        "])"
      ],
      "execution_count": 0,
      "outputs": []
    },
    {
      "cell_type": "code",
      "metadata": {
        "id": "3Agrvpsnyf_H",
        "colab_type": "code",
        "colab": {}
      },
      "source": [
        "tstatistic, p_value = ttest_1samp(mydata1, 289)\n",
        "  "
      ],
      "execution_count": 0,
      "outputs": []
    },
    {
      "cell_type": "code",
      "metadata": {
        "id": "BANnfmafyf_K",
        "colab_type": "code",
        "colab": {},
        "outputId": "9c79a301-c4fd-4673-da0d-28a717a96abf"
      },
      "source": [
        "print(tstatistic, p_value)\n"
      ],
      "execution_count": 0,
      "outputs": [
        {
          "output_type": "stream",
          "text": [
            "-13.73944144821399 1.573028068418807e-16\n"
          ],
          "name": "stdout"
        }
      ]
    },
    {
      "cell_type": "code",
      "metadata": {
        "id": "FHaXrXOuyf_N",
        "colab_type": "code",
        "colab": {}
      },
      "source": [
        "z_statistic,p_value = wilcoxon(mydata1-289)"
      ],
      "execution_count": 0,
      "outputs": []
    },
    {
      "cell_type": "code",
      "metadata": {
        "id": "9__zhBlUyf_P",
        "colab_type": "code",
        "colab": {},
        "outputId": "ed3f9566-7d1c-4fd5-9880-797111ab4435"
      },
      "source": [
        "print(z_statistic, p_value)\n"
      ],
      "execution_count": 0,
      "outputs": [
        {
          "output_type": "stream",
          "text": [
            "0.0 5.1969335252682374e-08\n"
          ],
          "name": "stdout"
        }
      ]
    },
    {
      "cell_type": "code",
      "metadata": {
        "id": "pusZu1YYyf_S",
        "colab_type": "code",
        "colab": {},
        "outputId": "274df4e1-db5a-4cbd-df09-f3560b0afd52"
      },
      "source": [
        "(np.mean(mydata1)-289)/np.std(mydata1)"
      ],
      "execution_count": 0,
      "outputs": [
        {
          "output_type": "execute_result",
          "data": {
            "text/plain": [
              "-2.2000713934155987"
            ]
          },
          "metadata": {
            "tags": []
          },
          "execution_count": 123
        }
      ]
    },
    {
      "cell_type": "code",
      "metadata": {
        "id": "5kOlg3W7yf_V",
        "colab_type": "code",
        "colab": {},
        "outputId": "cb6f08db-42f0-4bf2-af88-0a6e29b92f6a"
      },
      "source": [
        "print(ttest_power(-0.0725,nobs=41,alpha=0.05,alternative='two-sided'))"
      ],
      "execution_count": 0,
      "outputs": [
        {
          "output_type": "stream",
          "text": [
            "0.07384066658238926\n"
          ],
          "name": "stdout"
        }
      ]
    },
    {
      "cell_type": "code",
      "metadata": {
        "id": "G187-zgPyf_X",
        "colab_type": "code",
        "colab": {},
        "outputId": "4003c606-8cd1-4a95-ab71-c8024be6bb5c"
      },
      "source": [
        "plt.hist(mydata)\n",
        "plt.show()"
      ],
      "execution_count": 0,
      "outputs": [
        {
          "output_type": "display_data",
          "data": {
            "image/png": "[encoded data removed]",
            "text/plain": [
              "<Figure size 432x288 with 1 Axes>"
            ]
          },
          "metadata": {
            "tags": [],
            "needs_background": "light"
          }
        }
      ]
    },
    {
      "cell_type": "code",
      "metadata": {
        "id": "Qu45No7syf_a",
        "colab_type": "code",
        "colab": {},
        "outputId": "4606e987-0c04-4ad7-99db-69b88a8c26db"
      },
      "source": [
        "plt.boxplot(mydata)\n",
        "plt.show()"
      ],
      "execution_count": 0,
      "outputs": [
        {
          "output_type": "display_data",
          "data": {
            "image/png": "[encoded data removed]",
            "text/plain": [
              "<Figure size 432x288 with 1 Axes>"
            ]
          },
          "metadata": {
            "tags": [],
            "needs_background": "light"
          }
        }
      ]
    },
    {
      "cell_type": "code",
      "metadata": {
        "id": "_DNWliv4yf_c",
        "colab_type": "code",
        "colab": {}
      },
      "source": [
        "# calculare tstatistic and p value for current and new values ( direct method)"
      ],
      "execution_count": 0,
      "outputs": []
    },
    {
      "cell_type": "code",
      "metadata": {
        "id": "RQWRKLedyf_e",
        "colab_type": "code",
        "colab": {}
      },
      "source": [
        "mydata2=np.array([\n",
        "[264,277],\n",
        "[261,269],\n",
        "[267,263],\n",
        "[272,266],\n",
        "[258,262],\n",
        "[283,251],\n",
        "[258,262],\n",
        "[266,289],\n",
        "[259,286],\n",
        "[270,264],\n",
        "[263,274],\n",
        "[264,266],\n",
        "[284,262],\n",
        "[263,271],\n",
        "[260,260],\n",
        "[283,281],\n",
        "[255,250],\n",
        "[272,263],\n",
        "[266,278],\n",
        "[268,264],\n",
        "[270,272],\n",
        "[287,259],\n",
        "[289,264],\n",
        "[280,280],\n",
        "[272,274],\n",
        "[275,281],\n",
        "[265,276],\n",
        "[260,269],\n",
        "[278,268],\n",
        "[275,262],\n",
        "[281,283],\n",
        "[274,250],\n",
        "[273,253],\n",
        "[263,260],\n",
        "[275,270],\n",
        "[267,263],\n",
        "[279,261],\n",
        "[274,255],\n",
        "[276,263],\n",
        "[262,279]]\n",
        ")"
      ],
      "execution_count": 0,
      "outputs": []
    },
    {
      "cell_type": "code",
      "metadata": {
        "id": "47MFr-ehyf_h",
        "colab_type": "code",
        "colab": {}
      },
      "source": [
        "pre=mydata2[:,0]\n",
        "post=mydata2[:,1]"
      ],
      "execution_count": 0,
      "outputs": []
    },
    {
      "cell_type": "code",
      "metadata": {
        "id": "Ml1WUA75yf_k",
        "colab_type": "code",
        "colab": {}
      },
      "source": [
        "# PERFORM SHAPIRO AND LEVENE TEST"
      ],
      "execution_count": 0,
      "outputs": []
    },
    {
      "cell_type": "code",
      "metadata": {
        "id": "uAUipUrZyf_m",
        "colab_type": "code",
        "colab": {},
        "outputId": "a1cf4366-f7ee-4972-d136-fea5651aa278"
      },
      "source": [
        "tstatistic,p_value=ttest_1samp(post-pre,0)\n",
        "print(tstatistic,p_value)"
      ],
      "execution_count": 0,
      "outputs": [
        {
          "output_type": "stream",
          "text": [
            "-1.2769699827911767 0.20916361823147053\n"
          ],
          "name": "stdout"
        }
      ]
    },
    {
      "cell_type": "code",
      "metadata": {
        "id": "WOE3j19Iyf_o",
        "colab_type": "code",
        "colab": {}
      },
      "source": [
        "z_statistic,p_value=wilcoxon(post-pre)"
      ],
      "execution_count": 0,
      "outputs": []
    },
    {
      "cell_type": "code",
      "metadata": {
        "id": "Ytnax5N7yf_q",
        "colab_type": "code",
        "colab": {},
        "outputId": "6d2dec81-afbd-473d-8507-08b0b2dfa6c4"
      },
      "source": [
        "print(z_statistic,p_value)"
      ],
      "execution_count": 0,
      "outputs": [
        {
          "output_type": "stream",
          "text": [
            "291.5 0.2516033447950283\n"
          ],
          "name": "stdout"
        }
      ]
    },
    {
      "cell_type": "code",
      "metadata": {
        "id": "PXJ6pqHNyf_u",
        "colab_type": "code",
        "colab": {},
        "outputId": "6a923baf-5a2c-48b8-910b-5cd21ab31a6d"
      },
      "source": [
        "levene(pre,post)"
      ],
      "execution_count": 0,
      "outputs": [
        {
          "output_type": "execute_result",
          "data": {
            "text/plain": [
              "LeveneResult(statistic=0.2553238291765741, pvalue=0.6147759523331309)"
            ]
          },
          "metadata": {
            "tags": []
          },
          "execution_count": 132
        }
      ]
    },
    {
      "cell_type": "code",
      "metadata": {
        "id": "Gul58GLcyf_x",
        "colab_type": "code",
        "colab": {},
        "outputId": "0f6c94f0-b98f-4af4-ad7a-46f865f4a438"
      },
      "source": [
        "# perform Shapiro test\n",
        "shapiro(post)"
      ],
      "execution_count": 0,
      "outputs": [
        {
          "output_type": "execute_result",
          "data": {
            "text/plain": [
              "(0.9678263664245605, 0.3064655363559723)"
            ]
          },
          "metadata": {
            "tags": []
          },
          "execution_count": 133
        }
      ]
    },
    {
      "cell_type": "code",
      "metadata": {
        "id": "PMoIC_qjyf_0",
        "colab_type": "code",
        "colab": {},
        "outputId": "d57fb55d-1d9d-45e3-b069-529b725d141e"
      },
      "source": [
        "#CALCULATE POOLED STANDARD DEVIATION\n",
        "(np.mean(pre)-np.mean(post)) / np.sqrt(((41-1)*np.var(pre)+ (41-1)*np.var(post))/41+41-2)"
      ],
      "execution_count": 0,
      "outputs": [
        {
          "output_type": "execute_result",
          "data": {
            "text/plain": [
              "0.19379163991320236"
            ]
          },
          "metadata": {
            "tags": []
          },
          "execution_count": 134
        }
      ]
    },
    {
      "cell_type": "code",
      "metadata": {
        "id": "mtpSGA49yf_2",
        "colab_type": "code",
        "colab": {},
        "outputId": "5a598dd4-fb90-4dce-84d1-2a5ad5d716df"
      },
      "source": [
        "print(ttest_power(0.79,nobs=41,alpha=0.05,alternative=\"two-sided\"))"
      ],
      "execution_count": 0,
      "outputs": [
        {
          "output_type": "stream",
          "text": [
            "0.9985295943051721\n"
          ],
          "name": "stdout"
        }
      ]
    },
    {
      "cell_type": "code",
      "metadata": {
        "id": "Vmygs0lUyf_4",
        "colab_type": "code",
        "colab": {}
      },
      "source": [
        "xbar=mydata2.mean()"
      ],
      "execution_count": 0,
      "outputs": []
    },
    {
      "cell_type": "code",
      "metadata": {
        "id": "LM4zAPHOyf_7",
        "colab_type": "code",
        "colab": {}
      },
      "source": [
        "mu=144"
      ],
      "execution_count": 0,
      "outputs": []
    },
    {
      "cell_type": "code",
      "metadata": {
        "id": "-gfW9oPDyf_-",
        "colab_type": "code",
        "colab": {}
      },
      "source": [
        "s=mydata1.std()"
      ],
      "execution_count": 0,
      "outputs": []
    },
    {
      "cell_type": "code",
      "metadata": {
        "id": "cOWZhLFwygAC",
        "colab_type": "code",
        "colab": {}
      },
      "source": [
        "n=41"
      ],
      "execution_count": 0,
      "outputs": []
    },
    {
      "cell_type": "code",
      "metadata": {
        "id": "mmtNM1fsygAD",
        "colab_type": "code",
        "colab": {}
      },
      "source": [
        "tstat=(xbar-mu)/(s/np.sqrt(n))"
      ],
      "execution_count": 0,
      "outputs": []
    },
    {
      "cell_type": "code",
      "metadata": {
        "id": "rHMBPK3UygAG",
        "colab_type": "code",
        "colab": {},
        "outputId": "6e5e392b-0756-46b8-dd13-49202a9acf7f"
      },
      "source": [
        "tstat"
      ],
      "execution_count": 0,
      "outputs": [
        {
          "output_type": "execute_result",
          "data": {
            "text/plain": [
              "81.82937131305316"
            ]
          },
          "metadata": {
            "tags": []
          },
          "execution_count": 142
        }
      ]
    },
    {
      "cell_type": "code",
      "metadata": {
        "id": "ehu_FMegygAJ",
        "colab_type": "code",
        "colab": {}
      },
      "source": [
        "from scipy import stats\n",
        "p=stats.t.cdf(1.224674,df=29)"
      ],
      "execution_count": 0,
      "outputs": []
    },
    {
      "cell_type": "code",
      "metadata": {
        "id": "Qkjm4JYuygAN",
        "colab_type": "code",
        "colab": {},
        "outputId": "f39630b4-883e-4c9b-b690-121f30fb6f3d"
      },
      "source": [
        "(1-p)*2"
      ],
      "execution_count": 0,
      "outputs": [
        {
          "output_type": "execute_result",
          "data": {
            "text/plain": [
              "0.2305534044836084"
            ]
          },
          "metadata": {
            "tags": []
          },
          "execution_count": 144
        }
      ]
    },
    {
      "cell_type": "code",
      "metadata": {
        "id": "5RCQlTErygAQ",
        "colab_type": "code",
        "colab": {},
        "outputId": "ce50d2c1-2641-4a04-9cc0-a149a3ed7921"
      },
      "source": [
        "#calculate SAMPLE POWER\n",
        "mydata"
      ],
      "execution_count": 0,
      "outputs": [
        {
          "output_type": "execute_result",
          "data": {
            "text/html": [
              "<div>\n",
              "<style scoped>\n",
              "    .dataframe tbody tr th:only-of-type {\n",
              "        vertical-align: middle;\n",
              "    }\n",
              "\n",
              "    .dataframe tbody tr th {\n",
              "        vertical-align: top;\n",
              "    }\n",
              "\n",
              "    .dataframe thead th {\n",
              "        text-align: right;\n",
              "    }\n",
              "</style>\n",
              "<table border=\"1\" class=\"dataframe\">\n",
              "  <thead>\n",
              "    <tr style=\"text-align: right;\">\n",
              "      <th></th>\n",
              "      <th>Current</th>\n",
              "      <th>New</th>\n",
              "    </tr>\n",
              "  </thead>\n",
              "  <tbody>\n",
              "    <tr>\n",
              "      <th>0</th>\n",
              "      <td>264</td>\n",
              "      <td>277</td>\n",
              "    </tr>\n",
              "    <tr>\n",
              "      <th>1</th>\n",
              "      <td>261</td>\n",
              "      <td>269</td>\n",
              "    </tr>\n",
              "    <tr>\n",
              "      <th>2</th>\n",
              "      <td>267</td>\n",
              "      <td>263</td>\n",
              "    </tr>\n",
              "    <tr>\n",
              "      <th>3</th>\n",
              "      <td>272</td>\n",
              "      <td>266</td>\n",
              "    </tr>\n",
              "    <tr>\n",
              "      <th>4</th>\n",
              "      <td>258</td>\n",
              "      <td>262</td>\n",
              "    </tr>\n",
              "    <tr>\n",
              "      <th>5</th>\n",
              "      <td>283</td>\n",
              "      <td>251</td>\n",
              "    </tr>\n",
              "    <tr>\n",
              "      <th>6</th>\n",
              "      <td>258</td>\n",
              "      <td>262</td>\n",
              "    </tr>\n",
              "    <tr>\n",
              "      <th>7</th>\n",
              "      <td>266</td>\n",
              "      <td>289</td>\n",
              "    </tr>\n",
              "    <tr>\n",
              "      <th>8</th>\n",
              "      <td>259</td>\n",
              "      <td>286</td>\n",
              "    </tr>\n",
              "    <tr>\n",
              "      <th>9</th>\n",
              "      <td>270</td>\n",
              "      <td>264</td>\n",
              "    </tr>\n",
              "    <tr>\n",
              "      <th>10</th>\n",
              "      <td>263</td>\n",
              "      <td>274</td>\n",
              "    </tr>\n",
              "    <tr>\n",
              "      <th>11</th>\n",
              "      <td>264</td>\n",
              "      <td>266</td>\n",
              "    </tr>\n",
              "    <tr>\n",
              "      <th>12</th>\n",
              "      <td>284</td>\n",
              "      <td>262</td>\n",
              "    </tr>\n",
              "    <tr>\n",
              "      <th>13</th>\n",
              "      <td>263</td>\n",
              "      <td>271</td>\n",
              "    </tr>\n",
              "    <tr>\n",
              "      <th>14</th>\n",
              "      <td>260</td>\n",
              "      <td>260</td>\n",
              "    </tr>\n",
              "    <tr>\n",
              "      <th>15</th>\n",
              "      <td>283</td>\n",
              "      <td>281</td>\n",
              "    </tr>\n",
              "    <tr>\n",
              "      <th>16</th>\n",
              "      <td>255</td>\n",
              "      <td>250</td>\n",
              "    </tr>\n",
              "    <tr>\n",
              "      <th>17</th>\n",
              "      <td>272</td>\n",
              "      <td>263</td>\n",
              "    </tr>\n",
              "    <tr>\n",
              "      <th>18</th>\n",
              "      <td>266</td>\n",
              "      <td>278</td>\n",
              "    </tr>\n",
              "    <tr>\n",
              "      <th>19</th>\n",
              "      <td>268</td>\n",
              "      <td>264</td>\n",
              "    </tr>\n",
              "    <tr>\n",
              "      <th>20</th>\n",
              "      <td>270</td>\n",
              "      <td>272</td>\n",
              "    </tr>\n",
              "    <tr>\n",
              "      <th>21</th>\n",
              "      <td>287</td>\n",
              "      <td>259</td>\n",
              "    </tr>\n",
              "    <tr>\n",
              "      <th>22</th>\n",
              "      <td>289</td>\n",
              "      <td>264</td>\n",
              "    </tr>\n",
              "    <tr>\n",
              "      <th>23</th>\n",
              "      <td>280</td>\n",
              "      <td>280</td>\n",
              "    </tr>\n",
              "    <tr>\n",
              "      <th>24</th>\n",
              "      <td>272</td>\n",
              "      <td>274</td>\n",
              "    </tr>\n",
              "    <tr>\n",
              "      <th>25</th>\n",
              "      <td>275</td>\n",
              "      <td>281</td>\n",
              "    </tr>\n",
              "    <tr>\n",
              "      <th>26</th>\n",
              "      <td>265</td>\n",
              "      <td>276</td>\n",
              "    </tr>\n",
              "    <tr>\n",
              "      <th>27</th>\n",
              "      <td>260</td>\n",
              "      <td>269</td>\n",
              "    </tr>\n",
              "    <tr>\n",
              "      <th>28</th>\n",
              "      <td>278</td>\n",
              "      <td>268</td>\n",
              "    </tr>\n",
              "    <tr>\n",
              "      <th>29</th>\n",
              "      <td>275</td>\n",
              "      <td>262</td>\n",
              "    </tr>\n",
              "    <tr>\n",
              "      <th>30</th>\n",
              "      <td>281</td>\n",
              "      <td>283</td>\n",
              "    </tr>\n",
              "    <tr>\n",
              "      <th>31</th>\n",
              "      <td>274</td>\n",
              "      <td>250</td>\n",
              "    </tr>\n",
              "    <tr>\n",
              "      <th>32</th>\n",
              "      <td>273</td>\n",
              "      <td>253</td>\n",
              "    </tr>\n",
              "    <tr>\n",
              "      <th>33</th>\n",
              "      <td>263</td>\n",
              "      <td>260</td>\n",
              "    </tr>\n",
              "    <tr>\n",
              "      <th>34</th>\n",
              "      <td>275</td>\n",
              "      <td>270</td>\n",
              "    </tr>\n",
              "    <tr>\n",
              "      <th>35</th>\n",
              "      <td>267</td>\n",
              "      <td>263</td>\n",
              "    </tr>\n",
              "    <tr>\n",
              "      <th>36</th>\n",
              "      <td>279</td>\n",
              "      <td>261</td>\n",
              "    </tr>\n",
              "    <tr>\n",
              "      <th>37</th>\n",
              "      <td>274</td>\n",
              "      <td>255</td>\n",
              "    </tr>\n",
              "    <tr>\n",
              "      <th>38</th>\n",
              "      <td>276</td>\n",
              "      <td>263</td>\n",
              "    </tr>\n",
              "    <tr>\n",
              "      <th>39</th>\n",
              "      <td>262</td>\n",
              "      <td>279</td>\n",
              "    </tr>\n",
              "  </tbody>\n",
              "</table>\n",
              "</div>"
            ],
            "text/plain": [
              "    Current  New\n",
              "0       264  277\n",
              "1       261  269\n",
              "2       267  263\n",
              "3       272  266\n",
              "4       258  262\n",
              "5       283  251\n",
              "6       258  262\n",
              "7       266  289\n",
              "8       259  286\n",
              "9       270  264\n",
              "10      263  274\n",
              "11      264  266\n",
              "12      284  262\n",
              "13      263  271\n",
              "14      260  260\n",
              "15      283  281\n",
              "16      255  250\n",
              "17      272  263\n",
              "18      266  278\n",
              "19      268  264\n",
              "20      270  272\n",
              "21      287  259\n",
              "22      289  264\n",
              "23      280  280\n",
              "24      272  274\n",
              "25      275  281\n",
              "26      265  276\n",
              "27      260  269\n",
              "28      278  268\n",
              "29      275  262\n",
              "30      281  283\n",
              "31      274  250\n",
              "32      273  253\n",
              "33      263  260\n",
              "34      275  270\n",
              "35      267  263\n",
              "36      279  261\n",
              "37      274  255\n",
              "38      276  263\n",
              "39      262  279"
            ]
          },
          "metadata": {
            "tags": []
          },
          "execution_count": 148
        }
      ]
    },
    {
      "cell_type": "markdown",
      "metadata": {
        "id": "qmY3CfWXygAT",
        "colab_type": "raw"
      },
      "source": [
        "group1=mydata('Current')\n",
        "group2=mydata('New')"
      ]
    },
    {
      "cell_type": "code",
      "metadata": {
        "id": "W3xBKC7pygAT",
        "colab_type": "code",
        "colab": {}
      },
      "source": [
        "tstatistic,p_value=ttest_ind(group1,group2)"
      ],
      "execution_count": 0,
      "outputs": []
    },
    {
      "cell_type": "code",
      "metadata": {
        "id": "4np4srlpygAV",
        "colab_type": "code",
        "colab": {},
        "outputId": "3bbc67b1-b12e-420e-b154-00c33c58c3b8"
      },
      "source": [
        "print(tstatistic,p_value)\n"
      ],
      "execution_count": 0,
      "outputs": [
        {
          "output_type": "stream",
          "text": [
            "1.3283615935245678 0.18793228491854663\n"
          ],
          "name": "stdout"
        }
      ]
    },
    {
      "cell_type": "code",
      "metadata": {
        "id": "sT-jgL_gygAX",
        "colab_type": "code",
        "colab": {}
      },
      "source": [
        "cont=pd.crosstab(mydata['Current'],mydata['New'])"
      ],
      "execution_count": 0,
      "outputs": []
    },
    {
      "cell_type": "code",
      "metadata": {
        "id": "8RX-KILmygAa",
        "colab_type": "code",
        "colab": {},
        "outputId": "d439aa93-3633-4c6e-cc42-c0fd403e2cf4"
      },
      "source": [
        "cont"
      ],
      "execution_count": 0,
      "outputs": [
        {
          "output_type": "execute_result",
          "data": {
            "text/html": [
              "<div>\n",
              "<style scoped>\n",
              "    .dataframe tbody tr th:only-of-type {\n",
              "        vertical-align: middle;\n",
              "    }\n",
              "\n",
              "    .dataframe tbody tr th {\n",
              "        vertical-align: top;\n",
              "    }\n",
              "\n",
              "    .dataframe thead th {\n",
              "        text-align: right;\n",
              "    }\n",
              "</style>\n",
              "<table border=\"1\" class=\"dataframe\">\n",
              "  <thead>\n",
              "    <tr style=\"text-align: right;\">\n",
              "      <th>New</th>\n",
              "      <th>250</th>\n",
              "      <th>251</th>\n",
              "      <th>253</th>\n",
              "      <th>255</th>\n",
              "      <th>259</th>\n",
              "      <th>260</th>\n",
              "      <th>261</th>\n",
              "      <th>262</th>\n",
              "      <th>263</th>\n",
              "      <th>264</th>\n",
              "      <th>...</th>\n",
              "      <th>274</th>\n",
              "      <th>276</th>\n",
              "      <th>277</th>\n",
              "      <th>278</th>\n",
              "      <th>279</th>\n",
              "      <th>280</th>\n",
              "      <th>281</th>\n",
              "      <th>283</th>\n",
              "      <th>286</th>\n",
              "      <th>289</th>\n",
              "    </tr>\n",
              "    <tr>\n",
              "      <th>Current</th>\n",
              "      <th></th>\n",
              "      <th></th>\n",
              "      <th></th>\n",
              "      <th></th>\n",
              "      <th></th>\n",
              "      <th></th>\n",
              "      <th></th>\n",
              "      <th></th>\n",
              "      <th></th>\n",
              "      <th></th>\n",
              "      <th></th>\n",
              "      <th></th>\n",
              "      <th></th>\n",
              "      <th></th>\n",
              "      <th></th>\n",
              "      <th></th>\n",
              "      <th></th>\n",
              "      <th></th>\n",
              "      <th></th>\n",
              "      <th></th>\n",
              "      <th></th>\n",
              "    </tr>\n",
              "  </thead>\n",
              "  <tbody>\n",
              "    <tr>\n",
              "      <th>255</th>\n",
              "      <td>1</td>\n",
              "      <td>0</td>\n",
              "      <td>0</td>\n",
              "      <td>0</td>\n",
              "      <td>0</td>\n",
              "      <td>0</td>\n",
              "      <td>0</td>\n",
              "      <td>0</td>\n",
              "      <td>0</td>\n",
              "      <td>0</td>\n",
              "      <td>...</td>\n",
              "      <td>0</td>\n",
              "      <td>0</td>\n",
              "      <td>0</td>\n",
              "      <td>0</td>\n",
              "      <td>0</td>\n",
              "      <td>0</td>\n",
              "      <td>0</td>\n",
              "      <td>0</td>\n",
              "      <td>0</td>\n",
              "      <td>0</td>\n",
              "    </tr>\n",
              "    <tr>\n",
              "      <th>258</th>\n",
              "      <td>0</td>\n",
              "      <td>0</td>\n",
              "      <td>0</td>\n",
              "      <td>0</td>\n",
              "      <td>0</td>\n",
              "      <td>0</td>\n",
              "      <td>0</td>\n",
              "      <td>2</td>\n",
              "      <td>0</td>\n",
              "      <td>0</td>\n",
              "      <td>...</td>\n",
              "      <td>0</td>\n",
              "      <td>0</td>\n",
              "      <td>0</td>\n",
              "      <td>0</td>\n",
              "      <td>0</td>\n",
              "      <td>0</td>\n",
              "      <td>0</td>\n",
              "      <td>0</td>\n",
              "      <td>0</td>\n",
              "      <td>0</td>\n",
              "    </tr>\n",
              "    <tr>\n",
              "      <th>259</th>\n",
              "      <td>0</td>\n",
              "      <td>0</td>\n",
              "      <td>0</td>\n",
              "      <td>0</td>\n",
              "      <td>0</td>\n",
              "      <td>0</td>\n",
              "      <td>0</td>\n",
              "      <td>0</td>\n",
              "      <td>0</td>\n",
              "      <td>0</td>\n",
              "      <td>...</td>\n",
              "      <td>0</td>\n",
              "      <td>0</td>\n",
              "      <td>0</td>\n",
              "      <td>0</td>\n",
              "      <td>0</td>\n",
              "      <td>0</td>\n",
              "      <td>0</td>\n",
              "      <td>0</td>\n",
              "      <td>1</td>\n",
              "      <td>0</td>\n",
              "    </tr>\n",
              "    <tr>\n",
              "      <th>260</th>\n",
              "      <td>0</td>\n",
              "      <td>0</td>\n",
              "      <td>0</td>\n",
              "      <td>0</td>\n",
              "      <td>0</td>\n",
              "      <td>1</td>\n",
              "      <td>0</td>\n",
              "      <td>0</td>\n",
              "      <td>0</td>\n",
              "      <td>0</td>\n",
              "      <td>...</td>\n",
              "      <td>0</td>\n",
              "      <td>0</td>\n",
              "      <td>0</td>\n",
              "      <td>0</td>\n",
              "      <td>0</td>\n",
              "      <td>0</td>\n",
              "      <td>0</td>\n",
              "      <td>0</td>\n",
              "      <td>0</td>\n",
              "      <td>0</td>\n",
              "    </tr>\n",
              "    <tr>\n",
              "      <th>261</th>\n",
              "      <td>0</td>\n",
              "      <td>0</td>\n",
              "      <td>0</td>\n",
              "      <td>0</td>\n",
              "      <td>0</td>\n",
              "      <td>0</td>\n",
              "      <td>0</td>\n",
              "      <td>0</td>\n",
              "      <td>0</td>\n",
              "      <td>0</td>\n",
              "      <td>...</td>\n",
              "      <td>0</td>\n",
              "      <td>0</td>\n",
              "      <td>0</td>\n",
              "      <td>0</td>\n",
              "      <td>0</td>\n",
              "      <td>0</td>\n",
              "      <td>0</td>\n",
              "      <td>0</td>\n",
              "      <td>0</td>\n",
              "      <td>0</td>\n",
              "    </tr>\n",
              "    <tr>\n",
              "      <th>262</th>\n",
              "      <td>0</td>\n",
              "      <td>0</td>\n",
              "      <td>0</td>\n",
              "      <td>0</td>\n",
              "      <td>0</td>\n",
              "      <td>0</td>\n",
              "      <td>0</td>\n",
              "      <td>0</td>\n",
              "      <td>0</td>\n",
              "      <td>0</td>\n",
              "      <td>...</td>\n",
              "      <td>0</td>\n",
              "      <td>0</td>\n",
              "      <td>0</td>\n",
              "      <td>0</td>\n",
              "      <td>1</td>\n",
              "      <td>0</td>\n",
              "      <td>0</td>\n",
              "      <td>0</td>\n",
              "      <td>0</td>\n",
              "      <td>0</td>\n",
              "    </tr>\n",
              "    <tr>\n",
              "      <th>263</th>\n",
              "      <td>0</td>\n",
              "      <td>0</td>\n",
              "      <td>0</td>\n",
              "      <td>0</td>\n",
              "      <td>0</td>\n",
              "      <td>1</td>\n",
              "      <td>0</td>\n",
              "      <td>0</td>\n",
              "      <td>0</td>\n",
              "      <td>0</td>\n",
              "      <td>...</td>\n",
              "      <td>1</td>\n",
              "      <td>0</td>\n",
              "      <td>0</td>\n",
              "      <td>0</td>\n",
              "      <td>0</td>\n",
              "      <td>0</td>\n",
              "      <td>0</td>\n",
              "      <td>0</td>\n",
              "      <td>0</td>\n",
              "      <td>0</td>\n",
              "    </tr>\n",
              "    <tr>\n",
              "      <th>264</th>\n",
              "      <td>0</td>\n",
              "      <td>0</td>\n",
              "      <td>0</td>\n",
              "      <td>0</td>\n",
              "      <td>0</td>\n",
              "      <td>0</td>\n",
              "      <td>0</td>\n",
              "      <td>0</td>\n",
              "      <td>0</td>\n",
              "      <td>0</td>\n",
              "      <td>...</td>\n",
              "      <td>0</td>\n",
              "      <td>0</td>\n",
              "      <td>1</td>\n",
              "      <td>0</td>\n",
              "      <td>0</td>\n",
              "      <td>0</td>\n",
              "      <td>0</td>\n",
              "      <td>0</td>\n",
              "      <td>0</td>\n",
              "      <td>0</td>\n",
              "    </tr>\n",
              "    <tr>\n",
              "      <th>265</th>\n",
              "      <td>0</td>\n",
              "      <td>0</td>\n",
              "      <td>0</td>\n",
              "      <td>0</td>\n",
              "      <td>0</td>\n",
              "      <td>0</td>\n",
              "      <td>0</td>\n",
              "      <td>0</td>\n",
              "      <td>0</td>\n",
              "      <td>0</td>\n",
              "      <td>...</td>\n",
              "      <td>0</td>\n",
              "      <td>1</td>\n",
              "      <td>0</td>\n",
              "      <td>0</td>\n",
              "      <td>0</td>\n",
              "      <td>0</td>\n",
              "      <td>0</td>\n",
              "      <td>0</td>\n",
              "      <td>0</td>\n",
              "      <td>0</td>\n",
              "    </tr>\n",
              "    <tr>\n",
              "      <th>266</th>\n",
              "      <td>0</td>\n",
              "      <td>0</td>\n",
              "      <td>0</td>\n",
              "      <td>0</td>\n",
              "      <td>0</td>\n",
              "      <td>0</td>\n",
              "      <td>0</td>\n",
              "      <td>0</td>\n",
              "      <td>0</td>\n",
              "      <td>0</td>\n",
              "      <td>...</td>\n",
              "      <td>0</td>\n",
              "      <td>0</td>\n",
              "      <td>0</td>\n",
              "      <td>1</td>\n",
              "      <td>0</td>\n",
              "      <td>0</td>\n",
              "      <td>0</td>\n",
              "      <td>0</td>\n",
              "      <td>0</td>\n",
              "      <td>1</td>\n",
              "    </tr>\n",
              "    <tr>\n",
              "      <th>267</th>\n",
              "      <td>0</td>\n",
              "      <td>0</td>\n",
              "      <td>0</td>\n",
              "      <td>0</td>\n",
              "      <td>0</td>\n",
              "      <td>0</td>\n",
              "      <td>0</td>\n",
              "      <td>0</td>\n",
              "      <td>2</td>\n",
              "      <td>0</td>\n",
              "      <td>...</td>\n",
              "      <td>0</td>\n",
              "      <td>0</td>\n",
              "      <td>0</td>\n",
              "      <td>0</td>\n",
              "      <td>0</td>\n",
              "      <td>0</td>\n",
              "      <td>0</td>\n",
              "      <td>0</td>\n",
              "      <td>0</td>\n",
              "      <td>0</td>\n",
              "    </tr>\n",
              "    <tr>\n",
              "      <th>268</th>\n",
              "      <td>0</td>\n",
              "      <td>0</td>\n",
              "      <td>0</td>\n",
              "      <td>0</td>\n",
              "      <td>0</td>\n",
              "      <td>0</td>\n",
              "      <td>0</td>\n",
              "      <td>0</td>\n",
              "      <td>0</td>\n",
              "      <td>1</td>\n",
              "      <td>...</td>\n",
              "      <td>0</td>\n",
              "      <td>0</td>\n",
              "      <td>0</td>\n",
              "      <td>0</td>\n",
              "      <td>0</td>\n",
              "      <td>0</td>\n",
              "      <td>0</td>\n",
              "      <td>0</td>\n",
              "      <td>0</td>\n",
              "      <td>0</td>\n",
              "    </tr>\n",
              "    <tr>\n",
              "      <th>270</th>\n",
              "      <td>0</td>\n",
              "      <td>0</td>\n",
              "      <td>0</td>\n",
              "      <td>0</td>\n",
              "      <td>0</td>\n",
              "      <td>0</td>\n",
              "      <td>0</td>\n",
              "      <td>0</td>\n",
              "      <td>0</td>\n",
              "      <td>1</td>\n",
              "      <td>...</td>\n",
              "      <td>0</td>\n",
              "      <td>0</td>\n",
              "      <td>0</td>\n",
              "      <td>0</td>\n",
              "      <td>0</td>\n",
              "      <td>0</td>\n",
              "      <td>0</td>\n",
              "      <td>0</td>\n",
              "      <td>0</td>\n",
              "      <td>0</td>\n",
              "    </tr>\n",
              "    <tr>\n",
              "      <th>272</th>\n",
              "      <td>0</td>\n",
              "      <td>0</td>\n",
              "      <td>0</td>\n",
              "      <td>0</td>\n",
              "      <td>0</td>\n",
              "      <td>0</td>\n",
              "      <td>0</td>\n",
              "      <td>0</td>\n",
              "      <td>1</td>\n",
              "      <td>0</td>\n",
              "      <td>...</td>\n",
              "      <td>1</td>\n",
              "      <td>0</td>\n",
              "      <td>0</td>\n",
              "      <td>0</td>\n",
              "      <td>0</td>\n",
              "      <td>0</td>\n",
              "      <td>0</td>\n",
              "      <td>0</td>\n",
              "      <td>0</td>\n",
              "      <td>0</td>\n",
              "    </tr>\n",
              "    <tr>\n",
              "      <th>273</th>\n",
              "      <td>0</td>\n",
              "      <td>0</td>\n",
              "      <td>1</td>\n",
              "      <td>0</td>\n",
              "      <td>0</td>\n",
              "      <td>0</td>\n",
              "      <td>0</td>\n",
              "      <td>0</td>\n",
              "      <td>0</td>\n",
              "      <td>0</td>\n",
              "      <td>...</td>\n",
              "      <td>0</td>\n",
              "      <td>0</td>\n",
              "      <td>0</td>\n",
              "      <td>0</td>\n",
              "      <td>0</td>\n",
              "      <td>0</td>\n",
              "      <td>0</td>\n",
              "      <td>0</td>\n",
              "      <td>0</td>\n",
              "      <td>0</td>\n",
              "    </tr>\n",
              "    <tr>\n",
              "      <th>274</th>\n",
              "      <td>1</td>\n",
              "      <td>0</td>\n",
              "      <td>0</td>\n",
              "      <td>1</td>\n",
              "      <td>0</td>\n",
              "      <td>0</td>\n",
              "      <td>0</td>\n",
              "      <td>0</td>\n",
              "      <td>0</td>\n",
              "      <td>0</td>\n",
              "      <td>...</td>\n",
              "      <td>0</td>\n",
              "      <td>0</td>\n",
              "      <td>0</td>\n",
              "      <td>0</td>\n",
              "      <td>0</td>\n",
              "      <td>0</td>\n",
              "      <td>0</td>\n",
              "      <td>0</td>\n",
              "      <td>0</td>\n",
              "      <td>0</td>\n",
              "    </tr>\n",
              "    <tr>\n",
              "      <th>275</th>\n",
              "      <td>0</td>\n",
              "      <td>0</td>\n",
              "      <td>0</td>\n",
              "      <td>0</td>\n",
              "      <td>0</td>\n",
              "      <td>0</td>\n",
              "      <td>0</td>\n",
              "      <td>1</td>\n",
              "      <td>0</td>\n",
              "      <td>0</td>\n",
              "      <td>...</td>\n",
              "      <td>0</td>\n",
              "      <td>0</td>\n",
              "      <td>0</td>\n",
              "      <td>0</td>\n",
              "      <td>0</td>\n",
              "      <td>0</td>\n",
              "      <td>1</td>\n",
              "      <td>0</td>\n",
              "      <td>0</td>\n",
              "      <td>0</td>\n",
              "    </tr>\n",
              "    <tr>\n",
              "      <th>276</th>\n",
              "      <td>0</td>\n",
              "      <td>0</td>\n",
              "      <td>0</td>\n",
              "      <td>0</td>\n",
              "      <td>0</td>\n",
              "      <td>0</td>\n",
              "      <td>0</td>\n",
              "      <td>0</td>\n",
              "      <td>1</td>\n",
              "      <td>0</td>\n",
              "      <td>...</td>\n",
              "      <td>0</td>\n",
              "      <td>0</td>\n",
              "      <td>0</td>\n",
              "      <td>0</td>\n",
              "      <td>0</td>\n",
              "      <td>0</td>\n",
              "      <td>0</td>\n",
              "      <td>0</td>\n",
              "      <td>0</td>\n",
              "      <td>0</td>\n",
              "    </tr>\n",
              "    <tr>\n",
              "      <th>278</th>\n",
              "      <td>0</td>\n",
              "      <td>0</td>\n",
              "      <td>0</td>\n",
              "      <td>0</td>\n",
              "      <td>0</td>\n",
              "      <td>0</td>\n",
              "      <td>0</td>\n",
              "      <td>0</td>\n",
              "      <td>0</td>\n",
              "      <td>0</td>\n",
              "      <td>...</td>\n",
              "      <td>0</td>\n",
              "      <td>0</td>\n",
              "      <td>0</td>\n",
              "      <td>0</td>\n",
              "      <td>0</td>\n",
              "      <td>0</td>\n",
              "      <td>0</td>\n",
              "      <td>0</td>\n",
              "      <td>0</td>\n",
              "      <td>0</td>\n",
              "    </tr>\n",
              "    <tr>\n",
              "      <th>279</th>\n",
              "      <td>0</td>\n",
              "      <td>0</td>\n",
              "      <td>0</td>\n",
              "      <td>0</td>\n",
              "      <td>0</td>\n",
              "      <td>0</td>\n",
              "      <td>1</td>\n",
              "      <td>0</td>\n",
              "      <td>0</td>\n",
              "      <td>0</td>\n",
              "      <td>...</td>\n",
              "      <td>0</td>\n",
              "      <td>0</td>\n",
              "      <td>0</td>\n",
              "      <td>0</td>\n",
              "      <td>0</td>\n",
              "      <td>0</td>\n",
              "      <td>0</td>\n",
              "      <td>0</td>\n",
              "      <td>0</td>\n",
              "      <td>0</td>\n",
              "    </tr>\n",
              "    <tr>\n",
              "      <th>280</th>\n",
              "      <td>0</td>\n",
              "      <td>0</td>\n",
              "      <td>0</td>\n",
              "      <td>0</td>\n",
              "      <td>0</td>\n",
              "      <td>0</td>\n",
              "      <td>0</td>\n",
              "      <td>0</td>\n",
              "      <td>0</td>\n",
              "      <td>0</td>\n",
              "      <td>...</td>\n",
              "      <td>0</td>\n",
              "      <td>0</td>\n",
              "      <td>0</td>\n",
              "      <td>0</td>\n",
              "      <td>0</td>\n",
              "      <td>1</td>\n",
              "      <td>0</td>\n",
              "      <td>0</td>\n",
              "      <td>0</td>\n",
              "      <td>0</td>\n",
              "    </tr>\n",
              "    <tr>\n",
              "      <th>281</th>\n",
              "      <td>0</td>\n",
              "      <td>0</td>\n",
              "      <td>0</td>\n",
              "      <td>0</td>\n",
              "      <td>0</td>\n",
              "      <td>0</td>\n",
              "      <td>0</td>\n",
              "      <td>0</td>\n",
              "      <td>0</td>\n",
              "      <td>0</td>\n",
              "      <td>...</td>\n",
              "      <td>0</td>\n",
              "      <td>0</td>\n",
              "      <td>0</td>\n",
              "      <td>0</td>\n",
              "      <td>0</td>\n",
              "      <td>0</td>\n",
              "      <td>0</td>\n",
              "      <td>1</td>\n",
              "      <td>0</td>\n",
              "      <td>0</td>\n",
              "    </tr>\n",
              "    <tr>\n",
              "      <th>283</th>\n",
              "      <td>0</td>\n",
              "      <td>1</td>\n",
              "      <td>0</td>\n",
              "      <td>0</td>\n",
              "      <td>0</td>\n",
              "      <td>0</td>\n",
              "      <td>0</td>\n",
              "      <td>0</td>\n",
              "      <td>0</td>\n",
              "      <td>0</td>\n",
              "      <td>...</td>\n",
              "      <td>0</td>\n",
              "      <td>0</td>\n",
              "      <td>0</td>\n",
              "      <td>0</td>\n",
              "      <td>0</td>\n",
              "      <td>0</td>\n",
              "      <td>1</td>\n",
              "      <td>0</td>\n",
              "      <td>0</td>\n",
              "      <td>0</td>\n",
              "    </tr>\n",
              "    <tr>\n",
              "      <th>284</th>\n",
              "      <td>0</td>\n",
              "      <td>0</td>\n",
              "      <td>0</td>\n",
              "      <td>0</td>\n",
              "      <td>0</td>\n",
              "      <td>0</td>\n",
              "      <td>0</td>\n",
              "      <td>1</td>\n",
              "      <td>0</td>\n",
              "      <td>0</td>\n",
              "      <td>...</td>\n",
              "      <td>0</td>\n",
              "      <td>0</td>\n",
              "      <td>0</td>\n",
              "      <td>0</td>\n",
              "      <td>0</td>\n",
              "      <td>0</td>\n",
              "      <td>0</td>\n",
              "      <td>0</td>\n",
              "      <td>0</td>\n",
              "      <td>0</td>\n",
              "    </tr>\n",
              "    <tr>\n",
              "      <th>287</th>\n",
              "      <td>0</td>\n",
              "      <td>0</td>\n",
              "      <td>0</td>\n",
              "      <td>0</td>\n",
              "      <td>1</td>\n",
              "      <td>0</td>\n",
              "      <td>0</td>\n",
              "      <td>0</td>\n",
              "      <td>0</td>\n",
              "      <td>0</td>\n",
              "      <td>...</td>\n",
              "      <td>0</td>\n",
              "      <td>0</td>\n",
              "      <td>0</td>\n",
              "      <td>0</td>\n",
              "      <td>0</td>\n",
              "      <td>0</td>\n",
              "      <td>0</td>\n",
              "      <td>0</td>\n",
              "      <td>0</td>\n",
              "      <td>0</td>\n",
              "    </tr>\n",
              "    <tr>\n",
              "      <th>289</th>\n",
              "      <td>0</td>\n",
              "      <td>0</td>\n",
              "      <td>0</td>\n",
              "      <td>0</td>\n",
              "      <td>0</td>\n",
              "      <td>0</td>\n",
              "      <td>0</td>\n",
              "      <td>0</td>\n",
              "      <td>0</td>\n",
              "      <td>1</td>\n",
              "      <td>...</td>\n",
              "      <td>0</td>\n",
              "      <td>0</td>\n",
              "      <td>0</td>\n",
              "      <td>0</td>\n",
              "      <td>0</td>\n",
              "      <td>0</td>\n",
              "      <td>0</td>\n",
              "      <td>0</td>\n",
              "      <td>0</td>\n",
              "      <td>0</td>\n",
              "    </tr>\n",
              "  </tbody>\n",
              "</table>\n",
              "<p>26 rows × 26 columns</p>\n",
              "</div>"
            ],
            "text/plain": [
              "New      250  251  253  255  259  260  261  262  263  264 ...   274  276  277  \\\n",
              "Current                                                   ...                   \n",
              "255        1    0    0    0    0    0    0    0    0    0 ...     0    0    0   \n",
              "258        0    0    0    0    0    0    0    2    0    0 ...     0    0    0   \n",
              "259        0    0    0    0    0    0    0    0    0    0 ...     0    0    0   \n",
              "260        0    0    0    0    0    1    0    0    0    0 ...     0    0    0   \n",
              "261        0    0    0    0    0    0    0    0    0    0 ...     0    0    0   \n",
              "262        0    0    0    0    0    0    0    0    0    0 ...     0    0    0   \n",
              "263        0    0    0    0    0    1    0    0    0    0 ...     1    0    0   \n",
              "264        0    0    0    0    0    0    0    0    0    0 ...     0    0    1   \n",
              "265        0    0    0    0    0    0    0    0    0    0 ...     0    1    0   \n",
              "266        0    0    0    0    0    0    0    0    0    0 ...     0    0    0   \n",
              "267        0    0    0    0    0    0    0    0    2    0 ...     0    0    0   \n",
              "268        0    0    0    0    0    0    0    0    0    1 ...     0    0    0   \n",
              "270        0    0    0    0    0    0    0    0    0    1 ...     0    0    0   \n",
              "272        0    0    0    0    0    0    0    0    1    0 ...     1    0    0   \n",
              "273        0    0    1    0    0    0    0    0    0    0 ...     0    0    0   \n",
              "274        1    0    0    1    0    0    0    0    0    0 ...     0    0    0   \n",
              "275        0    0    0    0    0    0    0    1    0    0 ...     0    0    0   \n",
              "276        0    0    0    0    0    0    0    0    1    0 ...     0    0    0   \n",
              "278        0    0    0    0    0    0    0    0    0    0 ...     0    0    0   \n",
              "279        0    0    0    0    0    0    1    0    0    0 ...     0    0    0   \n",
              "280        0    0    0    0    0    0    0    0    0    0 ...     0    0    0   \n",
              "281        0    0    0    0    0    0    0    0    0    0 ...     0    0    0   \n",
              "283        0    1    0    0    0    0    0    0    0    0 ...     0    0    0   \n",
              "284        0    0    0    0    0    0    0    1    0    0 ...     0    0    0   \n",
              "287        0    0    0    0    1    0    0    0    0    0 ...     0    0    0   \n",
              "289        0    0    0    0    0    0    0    0    0    1 ...     0    0    0   \n",
              "\n",
              "New      278  279  280  281  283  286  289  \n",
              "Current                                     \n",
              "255        0    0    0    0    0    0    0  \n",
              "258        0    0    0    0    0    0    0  \n",
              "259        0    0    0    0    0    1    0  \n",
              "260        0    0    0    0    0    0    0  \n",
              "261        0    0    0    0    0    0    0  \n",
              "262        0    1    0    0    0    0    0  \n",
              "263        0    0    0    0    0    0    0  \n",
              "264        0    0    0    0    0    0    0  \n",
              "265        0    0    0    0    0    0    0  \n",
              "266        1    0    0    0    0    0    1  \n",
              "267        0    0    0    0    0    0    0  \n",
              "268        0    0    0    0    0    0    0  \n",
              "270        0    0    0    0    0    0    0  \n",
              "272        0    0    0    0    0    0    0  \n",
              "273        0    0    0    0    0    0    0  \n",
              "274        0    0    0    0    0    0    0  \n",
              "275        0    0    0    1    0    0    0  \n",
              "276        0    0    0    0    0    0    0  \n",
              "278        0    0    0    0    0    0    0  \n",
              "279        0    0    0    0    0    0    0  \n",
              "280        0    0    1    0    0    0    0  \n",
              "281        0    0    0    0    1    0    0  \n",
              "283        0    0    0    1    0    0    0  \n",
              "284        0    0    0    0    0    0    0  \n",
              "287        0    0    0    0    0    0    0  \n",
              "289        0    0    0    0    0    0    0  \n",
              "\n",
              "[26 rows x 26 columns]"
            ]
          },
          "metadata": {
            "tags": []
          },
          "execution_count": 152
        }
      ]
    },
    {
      "cell_type": "code",
      "metadata": {
        "id": "GKC0RTLYygAd",
        "colab_type": "code",
        "colab": {},
        "outputId": "0fd6231e-e6b1-4501-dac9-b6d747f8067d"
      },
      "source": [
        "chi2_contingency(cont)"
      ],
      "execution_count": 0,
      "outputs": [
        {
          "output_type": "execute_result",
          "data": {
            "text/plain": [
              "(690.0,\n",
              " 0.036163809160820556,\n",
              " 625,\n",
              " array([[0.05 , 0.025, 0.025, 0.025, 0.025, 0.05 , 0.025, 0.1  , 0.1  ,\n",
              "         0.075, 0.05 , 0.025, 0.05 , 0.025, 0.025, 0.025, 0.05 , 0.025,\n",
              "         0.025, 0.025, 0.025, 0.025, 0.05 , 0.025, 0.025, 0.025],\n",
              "        [0.1  , 0.05 , 0.05 , 0.05 , 0.05 , 0.1  , 0.05 , 0.2  , 0.2  ,\n",
              "         0.15 , 0.1  , 0.05 , 0.1  , 0.05 , 0.05 , 0.05 , 0.1  , 0.05 ,\n",
              "         0.05 , 0.05 , 0.05 , 0.05 , 0.1  , 0.05 , 0.05 , 0.05 ],\n",
              "        [0.05 , 0.025, 0.025, 0.025, 0.025, 0.05 , 0.025, 0.1  , 0.1  ,\n",
              "         0.075, 0.05 , 0.025, 0.05 , 0.025, 0.025, 0.025, 0.05 , 0.025,\n",
              "         0.025, 0.025, 0.025, 0.025, 0.05 , 0.025, 0.025, 0.025],\n",
              "        [0.1  , 0.05 , 0.05 , 0.05 , 0.05 , 0.1  , 0.05 , 0.2  , 0.2  ,\n",
              "         0.15 , 0.1  , 0.05 , 0.1  , 0.05 , 0.05 , 0.05 , 0.1  , 0.05 ,\n",
              "         0.05 , 0.05 , 0.05 , 0.05 , 0.1  , 0.05 , 0.05 , 0.05 ],\n",
              "        [0.05 , 0.025, 0.025, 0.025, 0.025, 0.05 , 0.025, 0.1  , 0.1  ,\n",
              "         0.075, 0.05 , 0.025, 0.05 , 0.025, 0.025, 0.025, 0.05 , 0.025,\n",
              "         0.025, 0.025, 0.025, 0.025, 0.05 , 0.025, 0.025, 0.025],\n",
              "        [0.05 , 0.025, 0.025, 0.025, 0.025, 0.05 , 0.025, 0.1  , 0.1  ,\n",
              "         0.075, 0.05 , 0.025, 0.05 , 0.025, 0.025, 0.025, 0.05 , 0.025,\n",
              "         0.025, 0.025, 0.025, 0.025, 0.05 , 0.025, 0.025, 0.025],\n",
              "        [0.15 , 0.075, 0.075, 0.075, 0.075, 0.15 , 0.075, 0.3  , 0.3  ,\n",
              "         0.225, 0.15 , 0.075, 0.15 , 0.075, 0.075, 0.075, 0.15 , 0.075,\n",
              "         0.075, 0.075, 0.075, 0.075, 0.15 , 0.075, 0.075, 0.075],\n",
              "        [0.1  , 0.05 , 0.05 , 0.05 , 0.05 , 0.1  , 0.05 , 0.2  , 0.2  ,\n",
              "         0.15 , 0.1  , 0.05 , 0.1  , 0.05 , 0.05 , 0.05 , 0.1  , 0.05 ,\n",
              "         0.05 , 0.05 , 0.05 , 0.05 , 0.1  , 0.05 , 0.05 , 0.05 ],\n",
              "        [0.05 , 0.025, 0.025, 0.025, 0.025, 0.05 , 0.025, 0.1  , 0.1  ,\n",
              "         0.075, 0.05 , 0.025, 0.05 , 0.025, 0.025, 0.025, 0.05 , 0.025,\n",
              "         0.025, 0.025, 0.025, 0.025, 0.05 , 0.025, 0.025, 0.025],\n",
              "        [0.1  , 0.05 , 0.05 , 0.05 , 0.05 , 0.1  , 0.05 , 0.2  , 0.2  ,\n",
              "         0.15 , 0.1  , 0.05 , 0.1  , 0.05 , 0.05 , 0.05 , 0.1  , 0.05 ,\n",
              "         0.05 , 0.05 , 0.05 , 0.05 , 0.1  , 0.05 , 0.05 , 0.05 ],\n",
              "        [0.1  , 0.05 , 0.05 , 0.05 , 0.05 , 0.1  , 0.05 , 0.2  , 0.2  ,\n",
              "         0.15 , 0.1  , 0.05 , 0.1  , 0.05 , 0.05 , 0.05 , 0.1  , 0.05 ,\n",
              "         0.05 , 0.05 , 0.05 , 0.05 , 0.1  , 0.05 , 0.05 , 0.05 ],\n",
              "        [0.05 , 0.025, 0.025, 0.025, 0.025, 0.05 , 0.025, 0.1  , 0.1  ,\n",
              "         0.075, 0.05 , 0.025, 0.05 , 0.025, 0.025, 0.025, 0.05 , 0.025,\n",
              "         0.025, 0.025, 0.025, 0.025, 0.05 , 0.025, 0.025, 0.025],\n",
              "        [0.1  , 0.05 , 0.05 , 0.05 , 0.05 , 0.1  , 0.05 , 0.2  , 0.2  ,\n",
              "         0.15 , 0.1  , 0.05 , 0.1  , 0.05 , 0.05 , 0.05 , 0.1  , 0.05 ,\n",
              "         0.05 , 0.05 , 0.05 , 0.05 , 0.1  , 0.05 , 0.05 , 0.05 ],\n",
              "        [0.15 , 0.075, 0.075, 0.075, 0.075, 0.15 , 0.075, 0.3  , 0.3  ,\n",
              "         0.225, 0.15 , 0.075, 0.15 , 0.075, 0.075, 0.075, 0.15 , 0.075,\n",
              "         0.075, 0.075, 0.075, 0.075, 0.15 , 0.075, 0.075, 0.075],\n",
              "        [0.05 , 0.025, 0.025, 0.025, 0.025, 0.05 , 0.025, 0.1  , 0.1  ,\n",
              "         0.075, 0.05 , 0.025, 0.05 , 0.025, 0.025, 0.025, 0.05 , 0.025,\n",
              "         0.025, 0.025, 0.025, 0.025, 0.05 , 0.025, 0.025, 0.025],\n",
              "        [0.1  , 0.05 , 0.05 , 0.05 , 0.05 , 0.1  , 0.05 , 0.2  , 0.2  ,\n",
              "         0.15 , 0.1  , 0.05 , 0.1  , 0.05 , 0.05 , 0.05 , 0.1  , 0.05 ,\n",
              "         0.05 , 0.05 , 0.05 , 0.05 , 0.1  , 0.05 , 0.05 , 0.05 ],\n",
              "        [0.15 , 0.075, 0.075, 0.075, 0.075, 0.15 , 0.075, 0.3  , 0.3  ,\n",
              "         0.225, 0.15 , 0.075, 0.15 , 0.075, 0.075, 0.075, 0.15 , 0.075,\n",
              "         0.075, 0.075, 0.075, 0.075, 0.15 , 0.075, 0.075, 0.075],\n",
              "        [0.05 , 0.025, 0.025, 0.025, 0.025, 0.05 , 0.025, 0.1  , 0.1  ,\n",
              "         0.075, 0.05 , 0.025, 0.05 , 0.025, 0.025, 0.025, 0.05 , 0.025,\n",
              "         0.025, 0.025, 0.025, 0.025, 0.05 , 0.025, 0.025, 0.025],\n",
              "        [0.05 , 0.025, 0.025, 0.025, 0.025, 0.05 , 0.025, 0.1  , 0.1  ,\n",
              "         0.075, 0.05 , 0.025, 0.05 , 0.025, 0.025, 0.025, 0.05 , 0.025,\n",
              "         0.025, 0.025, 0.025, 0.025, 0.05 , 0.025, 0.025, 0.025],\n",
              "        [0.05 , 0.025, 0.025, 0.025, 0.025, 0.05 , 0.025, 0.1  , 0.1  ,\n",
              "         0.075, 0.05 , 0.025, 0.05 , 0.025, 0.025, 0.025, 0.05 , 0.025,\n",
              "         0.025, 0.025, 0.025, 0.025, 0.05 , 0.025, 0.025, 0.025],\n",
              "        [0.05 , 0.025, 0.025, 0.025, 0.025, 0.05 , 0.025, 0.1  , 0.1  ,\n",
              "         0.075, 0.05 , 0.025, 0.05 , 0.025, 0.025, 0.025, 0.05 , 0.025,\n",
              "         0.025, 0.025, 0.025, 0.025, 0.05 , 0.025, 0.025, 0.025],\n",
              "        [0.05 , 0.025, 0.025, 0.025, 0.025, 0.05 , 0.025, 0.1  , 0.1  ,\n",
              "         0.075, 0.05 , 0.025, 0.05 , 0.025, 0.025, 0.025, 0.05 , 0.025,\n",
              "         0.025, 0.025, 0.025, 0.025, 0.05 , 0.025, 0.025, 0.025],\n",
              "        [0.1  , 0.05 , 0.05 , 0.05 , 0.05 , 0.1  , 0.05 , 0.2  , 0.2  ,\n",
              "         0.15 , 0.1  , 0.05 , 0.1  , 0.05 , 0.05 , 0.05 , 0.1  , 0.05 ,\n",
              "         0.05 , 0.05 , 0.05 , 0.05 , 0.1  , 0.05 , 0.05 , 0.05 ],\n",
              "        [0.05 , 0.025, 0.025, 0.025, 0.025, 0.05 , 0.025, 0.1  , 0.1  ,\n",
              "         0.075, 0.05 , 0.025, 0.05 , 0.025, 0.025, 0.025, 0.05 , 0.025,\n",
              "         0.025, 0.025, 0.025, 0.025, 0.05 , 0.025, 0.025, 0.025],\n",
              "        [0.05 , 0.025, 0.025, 0.025, 0.025, 0.05 , 0.025, 0.1  , 0.1  ,\n",
              "         0.075, 0.05 , 0.025, 0.05 , 0.025, 0.025, 0.025, 0.05 , 0.025,\n",
              "         0.025, 0.025, 0.025, 0.025, 0.05 , 0.025, 0.025, 0.025],\n",
              "        [0.05 , 0.025, 0.025, 0.025, 0.025, 0.05 , 0.025, 0.1  , 0.1  ,\n",
              "         0.075, 0.05 , 0.025, 0.05 , 0.025, 0.025, 0.025, 0.05 , 0.025,\n",
              "         0.025, 0.025, 0.025, 0.025, 0.05 , 0.025, 0.025, 0.025]]))"
            ]
          },
          "metadata": {
            "tags": []
          },
          "execution_count": 153
        }
      ]
    },
    {
      "cell_type": "code",
      "metadata": {
        "id": "DaC_2c_6ygAe",
        "colab_type": "code",
        "colab": {},
        "outputId": "26233604-82c0-4ae3-be24-2de635510b80"
      },
      "source": [
        "# sample power\n",
        "chisquare(mydata['New'].value_counts())"
      ],
      "execution_count": 0,
      "outputs": [
        {
          "output_type": "execute_result",
          "data": {
            "text/plain": [
              "Power_divergenceResult(statistic=13.3, pvalue=0.9726081407825755)"
            ]
          },
          "metadata": {
            "tags": []
          },
          "execution_count": 154
        }
      ]
    },
    {
      "cell_type": "code",
      "metadata": {
        "id": "DKrCw7WMygAg",
        "colab_type": "code",
        "colab": {}
      },
      "source": [
        ""
      ],
      "execution_count": 0,
      "outputs": []
    },
    {
      "cell_type": "code",
      "metadata": {
        "id": "iRSECaLPygAi",
        "colab_type": "code",
        "colab": {}
      },
      "source": [
        ""
      ],
      "execution_count": 0,
      "outputs": []
    }
  ]
}