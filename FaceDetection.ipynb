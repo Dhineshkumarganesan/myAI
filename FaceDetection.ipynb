{
  "nbformat": 4,
  "nbformat_minor": 0,
  "metadata": {
    "colab": {
      "name": "FaceDetection.ipynb",
      "provenance": [],
      "private_outputs": true,
      "collapsed_sections": [],
      "toc_visible": true
    },
    "kernelspec": {
      "name": "python3",
      "display_name": "Python 3"
    },
    "accelerator": "GPU"
  },
  "cells": [
    {
      "cell_type": "markdown",
      "metadata": {
        "id": "NdjQSMmbbFVm",
        "colab_type": "text"
      },
      "source": [
        "**Face detection**\n",
        "Task is to predict the boundaries(mask) around the face in a given image.\n",
        "\n",
        "**Dataset**\n",
        "Faces in images marked with bounding boxes. Have around 500 images with around 1100 faces manually tagged via bounding box."
      ]
    },
    {
      "cell_type": "code",
      "metadata": {
        "id": "K-Mdtk74bDIA",
        "colab_type": "code",
        "colab": {}
      },
      "source": [
        "from google.colab import drive\n",
        "drive.mount('/content/drive')"
      ],
      "execution_count": 0,
      "outputs": []
    },
    {
      "cell_type": "code",
      "metadata": {
        "id": "u7Np253Spfph",
        "colab_type": "code",
        "colab": {}
      },
      "source": [
        "import os"
      ],
      "execution_count": 0,
      "outputs": []
    },
    {
      "cell_type": "code",
      "metadata": {
        "id": "4JjdoydgqyPL",
        "colab_type": "code",
        "colab": {}
      },
      "source": [
        "working_dir = \"/content/drive/My Drive/FaceDetectionRecognition\"\n",
        "os.chdir(working_dir)"
      ],
      "execution_count": 0,
      "outputs": []
    },
    {
      "cell_type": "code",
      "metadata": {
        "id": "K2qA7X9Bq62o",
        "colab_type": "code",
        "colab": {}
      },
      "source": [
        "import numpy as np\n",
        "# data = #### Add your code here ####\n",
        "\n",
        "data = np.load(\"./images.npy\", allow_pickle=True)"
      ],
      "execution_count": 0,
      "outputs": []
    },
    {
      "cell_type": "code",
      "metadata": {
        "id": "HtY65LZXrDa0",
        "colab_type": "code",
        "colab": {}
      },
      "source": [
        "type(data)"
      ],
      "execution_count": 0,
      "outputs": []
    },
    {
      "cell_type": "code",
      "metadata": {
        "id": "OiwZFZr1rF07",
        "colab_type": "code",
        "colab": {}
      },
      "source": [
        "data.shape"
      ],
      "execution_count": 0,
      "outputs": []
    },
    {
      "cell_type": "code",
      "metadata": {
        "id": "J22QQEj8rMBt",
        "colab_type": "code",
        "colab": {}
      },
      "source": [
        "data.view()[0]"
      ],
      "execution_count": 0,
      "outputs": []
    },
    {
      "cell_type": "code",
      "metadata": {
        "id": "aGiiTvNFrP1_",
        "colab_type": "code",
        "colab": {}
      },
      "source": [
        "data[0][1]"
      ],
      "execution_count": 0,
      "outputs": []
    },
    {
      "cell_type": "code",
      "metadata": {
        "id": "B0JkWdFtrUZT",
        "colab_type": "code",
        "colab": {}
      },
      "source": [
        "IMAGE_WIDTH = 224\n",
        "IMAGE_HEIGHT = 224"
      ],
      "execution_count": 0,
      "outputs": []
    },
    {
      "cell_type": "code",
      "metadata": {
        "id": "yvpiHKmprbJb",
        "colab_type": "code",
        "colab": {}
      },
      "source": [
        "import cv2\n",
        "from tensorflow.keras.applications.mobilenet import preprocess_input"
      ],
      "execution_count": 0,
      "outputs": []
    },
    {
      "cell_type": "code",
      "metadata": {
        "id": "940muQFhreS0",
        "colab_type": "code",
        "colab": {}
      },
      "source": [
        "masks = np.zeros((int(data.shape[0]), IMAGE_HEIGHT, IMAGE_WIDTH))\n",
        "X_train = np.zeros((int(data.shape[0]), IMAGE_HEIGHT, IMAGE_WIDTH, 3))\n",
        "for index in range(data.shape[0]):\n",
        "    img = data[index][0]\n",
        "    img = cv2.resize(img, dsize=(IMAGE_HEIGHT, IMAGE_WIDTH), interpolation=cv2.INTER_CUBIC)\n",
        "    try:\n",
        "      img = img[:, :, :3]\n",
        "    except:\n",
        "      continue\n",
        "    X_train[index] = preprocess_input(np.array(img, dtype=np.float32))\n",
        "    for i in data[index][1]:\n",
        "        x1 = int(i[\"points\"][0]['x'] * IMAGE_WIDTH)\n",
        "        x2 = int(i[\"points\"][1]['x'] * IMAGE_WIDTH)\n",
        "        y1 = int(i[\"points\"][0]['y'] * IMAGE_HEIGHT)\n",
        "        y2 = int(i[\"points\"][1]['y'] * IMAGE_HEIGHT)\n",
        "        masks[index][y1:y2, x1:x2] = 1"
      ],
      "execution_count": 0,
      "outputs": []
    },
    {
      "cell_type": "code",
      "metadata": {
        "id": "9x4FhJymrkfI",
        "colab_type": "code",
        "colab": {}
      },
      "source": [
        "X_train.shape"
      ],
      "execution_count": 0,
      "outputs": []
    },
    {
      "cell_type": "code",
      "metadata": {
        "id": "CT4ZainDrvaF",
        "colab_type": "code",
        "colab": {}
      },
      "source": [
        "type(masks)"
      ],
      "execution_count": 0,
      "outputs": []
    },
    {
      "cell_type": "code",
      "metadata": {
        "id": "3ZFkgL3vrxqs",
        "colab_type": "code",
        "colab": {}
      },
      "source": [
        "masks.shape"
      ],
      "execution_count": 0,
      "outputs": []
    },
    {
      "cell_type": "code",
      "metadata": {
        "id": "F_9FAt6er0eK",
        "colab_type": "code",
        "colab": {}
      },
      "source": [
        "masks.shape[0]"
      ],
      "execution_count": 0,
      "outputs": []
    },
    {
      "cell_type": "code",
      "metadata": {
        "id": "qRXKuD0mr4UT",
        "colab_type": "code",
        "colab": {}
      },
      "source": [
        "from matplotlib import pyplot\n",
        "n = 251\n",
        "print(X_train[n])\n",
        "pyplot.imshow(X_train[n])"
      ],
      "execution_count": 0,
      "outputs": []
    },
    {
      "cell_type": "code",
      "metadata": {
        "id": "PJN0kEZbsSkK",
        "colab_type": "code",
        "colab": {}
      },
      "source": [
        "pyplot.imshow(masks[n])"
      ],
      "execution_count": 0,
      "outputs": []
    },
    {
      "cell_type": "code",
      "metadata": {
        "id": "Em4A-ojpsW4X",
        "colab_type": "code",
        "colab": {}
      },
      "source": [
        "from tensorflow.keras.applications.mobilenet import MobileNet, preprocess_input\n",
        "from tensorflow.keras.layers import Concatenate, UpSampling2D, Conv2D, Reshape, concatenate\n",
        "from tensorflow.keras.models import Model\n",
        "import tensorflow as tf\n",
        "import cv2"
      ],
      "execution_count": 0,
      "outputs": []
    },
    {
      "cell_type": "code",
      "metadata": {
        "id": "El2hCpkwsaQH",
        "colab_type": "code",
        "colab": {}
      },
      "source": [
        "model = MobileNet()"
      ],
      "execution_count": 0,
      "outputs": []
    },
    {
      "cell_type": "code",
      "metadata": {
        "id": "hqU4BQh4r-2w",
        "colab_type": "code",
        "colab": {}
      },
      "source": [
        "model.summary()"
      ],
      "execution_count": 0,
      "outputs": []
    },
    {
      "cell_type": "code",
      "metadata": {
        "id": "VBWufnRqwGUo",
        "colab_type": "code",
        "colab": {}
      },
      "source": [
        "from keras import backend as K\n",
        "K.set_image_data_format('channels_first')"
      ],
      "execution_count": 0,
      "outputs": []
    },
    {
      "cell_type": "code",
      "metadata": {
        "id": "Mxj_AJKjss58",
        "colab_type": "code",
        "colab": {}
      },
      "source": [
        "def create_model(trainable=True):\n",
        "    # model = #### Add your code here ####\n",
        "    model = MobileNet(input_shape=(IMAGE_HEIGHT, IMAGE_WIDTH, 3), \n",
        "                      include_top=False, alpha=1.0, weights='imagenet')\n",
        "    for layer in model.layers:\n",
        "        layer.trainable = trainable\n",
        "\n",
        "    # Add all the UNET layers here\n",
        "    #### Add your code here ####\n",
        "\n",
        "    # getting the layers from mobilenet network\n",
        "    conv_pw_13_relu = model.get_layer(\"conv_pw_13_relu\").output\n",
        "    conv_pw_12_relu = model.get_layer(\"conv_pw_12_relu\").output\n",
        "    conv_pw_11_relu = model.get_layer(\"conv_pw_11_relu\").output\n",
        "    conv_pw_10_relu = model.get_layer(\"conv_pw_10_relu\").output\n",
        "    conv_pw_9_relu = model.get_layer(\"conv_pw_9_relu\").output\n",
        "    conv_pw_8_relu = model.get_layer(\"conv_pw_8_relu\").output\n",
        "    conv_pw_7_relu = model.get_layer(\"conv_pw_7_relu\").output\n",
        "    conv_pw_6_relu = model.get_layer(\"conv_pw_6_relu\").output\n",
        "    conv_pw_5_relu = model.get_layer(\"conv_pw_5_relu\").output\n",
        "    conv_pw_4_relu = model.get_layer(\"conv_pw_4_relu\").output\n",
        "    conv_pw_3_relu = model.get_layer(\"conv_pw_3_relu\").output\n",
        "    conv_pw_2_relu = model.get_layer(\"conv_pw_2_relu\").output\n",
        "    conv_pw_1_relu = model.get_layer(\"conv_pw_1_relu\").output\n",
        "    input_1 = model.layers[0].output\n",
        "\n",
        "    \n",
        "    # Adding Unet layers\n",
        "    # Each set will have 1 upsampling, then concat with the mobilenet layers having same shape\n",
        "    # followed by 2 conved layers with extra parameters\n",
        "\n",
        "    up2 = UpSampling2D()(conv_pw_13_relu)\n",
        "    concat1 = Concatenate()([up2, conv_pw_11_relu])\n",
        "    new_conv15 = Conv2D(512, 3, activation='relu', padding='same', kernel_initializer='he_normal')(concat1)\n",
        "    new_conv15 = Conv2D(512, 3, activation='relu', padding='same', kernel_initializer='he_normal')(new_conv15)\n",
        "\n",
        "    up3 = UpSampling2D()(concat1)\n",
        "    concat2 = Concatenate()([up3, conv_pw_5_relu])\n",
        "    new_conv16 = Conv2D(256, 3, activation='relu', padding='same', kernel_initializer='he_normal')(concat2)\n",
        "    new_conv16 = Conv2D(256, 3, activation='relu', padding='same', kernel_initializer='he_normal')(new_conv16)\n",
        "\n",
        "    up4 = UpSampling2D()(concat2)\n",
        "    concat3 = Concatenate()([up4, conv_pw_3_relu])\n",
        "    new_conv17 = Conv2D(128, 3, activation='relu', padding='same', kernel_initializer='he_normal')(concat3)\n",
        "    new_conv17 = Conv2D(128, 3, activation='relu', padding='same', kernel_initializer='he_normal')(new_conv17)\n",
        "\n",
        "    up5 = UpSampling2D()(concat3)\n",
        "    concat4 = Concatenate()([up5, conv_pw_1_relu])\n",
        "    new_conv17 = Conv2D(64, 3, activation='relu', padding='same', kernel_initializer='he_normal')(concat4)\n",
        "    new_conv17 = Conv2D(64, 3, activation='relu', padding='same', kernel_initializer='he_normal')(new_conv17)\n",
        "\n",
        "    up6 = UpSampling2D()(concat4)\n",
        "    concat5 = Concatenate()([up6, input_1])\n",
        "\n",
        "    outputs = Conv2D(1, kernel_size=1, activation=\"sigmoid\")(concat5)\n",
        "    outputs = Reshape((IMAGE_HEIGHT, IMAGE_WIDTH))(outputs)\n",
        "\n",
        "    # #### Add your code here ####\n",
        "    return Model(inputs=model.input, outputs=outputs)"
      ],
      "execution_count": 0,
      "outputs": []
    },
    {
      "cell_type": "code",
      "metadata": {
        "id": "WcRc_pbXsw7o",
        "colab_type": "code",
        "colab": {}
      },
      "source": [
        "model = create_model(True)"
      ],
      "execution_count": 0,
      "outputs": []
    },
    {
      "cell_type": "code",
      "metadata": {
        "id": "EfFzaionz3w9",
        "colab_type": "code",
        "colab": {}
      },
      "source": [
        "model.summary()"
      ],
      "execution_count": 0,
      "outputs": []
    },
    {
      "cell_type": "code",
      "metadata": {
        "id": "1kJw_2jD0B6T",
        "colab_type": "code",
        "colab": {}
      },
      "source": [
        "from keras import backend as K\n",
        "\n",
        "def dice_coefficient(y_true, y_pred):\n",
        "    y_true_f = K.flatten(y_true)\n",
        "    y_pred_f = K.flatten(y_pred)\n",
        "\n",
        "    n = K.sum(y_true_f * y_pred_f)\n",
        "    d = K.sum(y_true_f) + K.sum(y_pred_f)\n",
        "    return n / (d + K.epsilon())"
      ],
      "execution_count": 0,
      "outputs": []
    },
    {
      "cell_type": "code",
      "metadata": {
        "id": "RyWogyFS0FT5",
        "colab_type": "code",
        "colab": {}
      },
      "source": [
        "from tensorflow.keras.losses import binary_crossentropy\n",
        "from tensorflow.keras.backend import log, epsilon\n",
        "def loss(y_true, y_pred):\n",
        "    return binary_crossentropy(y_true, y_pred) - log(dice_coefficient(y_true, y_pred) + epsilon())"
      ],
      "execution_count": 0,
      "outputs": []
    },
    {
      "cell_type": "code",
      "metadata": {
        "id": "vbQ0JNNy0KR1",
        "colab_type": "code",
        "colab": {}
      },
      "source": [
        "from tensorflow.keras.optimizers import Adam\n",
        "# optimizer = Adam(lr=1e-4, beta_1=0.9, beta_2=0.999, epsilon=None, decay=0.0, amsgrad=False)\n",
        "model.compile(loss=loss, optimizer=\"adam\", metrics=[dice_coefficient])"
      ],
      "execution_count": 0,
      "outputs": []
    },
    {
      "cell_type": "code",
      "metadata": {
        "id": "BUDsJ5A80OaN",
        "colab_type": "code",
        "colab": {}
      },
      "source": [
        "from tensorflow.keras.callbacks import ModelCheckpoint, EarlyStopping, ReduceLROnPlateau\n",
        "checkpoint = ModelCheckpoint(\"model-{loss:.2f}.h5\", monitor=\"loss\", verbose=1, save_best_only=True,\n",
        "                             save_weights_only=True, mode=\"min\", save_freq=1)\n",
        "stop = EarlyStopping(monitor=\"loss\", patience=5, mode=\"min\")\n",
        "reduce_lr = ReduceLROnPlateau(monitor=\"loss\", factor=0.2, patience=5, min_lr=1e-7, verbose=1, mode=\"min\")"
      ],
      "execution_count": 0,
      "outputs": []
    },
    {
      "cell_type": "code",
      "metadata": {
        "id": "nuJJks3E0SIU",
        "colab_type": "code",
        "colab": {}
      },
      "source": [
        "from tensorflow.keras.preprocessing.image import ImageDataGenerator\n",
        "from sklearn.model_selection import train_test_split"
      ],
      "execution_count": 0,
      "outputs": []
    },
    {
      "cell_type": "code",
      "metadata": {
        "id": "O-S8pKB60ijF",
        "colab_type": "code",
        "colab": {}
      },
      "source": [
        "EPOCHS = 100\n",
        "BATCH_SIZE = 2\n",
        "callbacks = [checkpoint, reduce_lr, stop]\n",
        "\n",
        "\n",
        "# model.fit(X_tr,y_tr, validation_data=(X_v,y_v), epochs=EPOCHS, batch_size=BATCH_SIZE, shuffle='batch', callbacks=callbacks, verbose=1)\n",
        "\n",
        "model.fit(X_train, masks, validation_split=0.3, \n",
        "          epochs=EPOCHS, batch_size=BATCH_SIZE, \n",
        "          shuffle='batch', \n",
        "          callbacks=callbacks, \n",
        "          verbose=1)"
      ],
      "execution_count": 0,
      "outputs": []
    },
    {
      "cell_type": "code",
      "metadata": {
        "id": "I-dq4Y3TG0lv",
        "colab_type": "code",
        "colab": {}
      },
      "source": [
        "WEIGHTS_FILE = \"model-0.94.h5\""
      ],
      "execution_count": 0,
      "outputs": []
    },
    {
      "cell_type": "code",
      "metadata": {
        "id": "prdwplEOG328",
        "colab_type": "code",
        "colab": {}
      },
      "source": [
        "model = create_model(True)\n",
        "model.load_weights(WEIGHTS_FILE)"
      ],
      "execution_count": 0,
      "outputs": []
    },
    {
      "cell_type": "code",
      "metadata": {
        "id": "G3arggbbHGaH",
        "colab_type": "code",
        "colab": {}
      },
      "source": [
        "n = 400\n",
        "sample_image = X_train[n]"
      ],
      "execution_count": 0,
      "outputs": []
    },
    {
      "cell_type": "code",
      "metadata": {
        "id": "ReixEIFKHI8i",
        "colab_type": "code",
        "colab": {}
      },
      "source": [
        "pyplot.imshow(sample_image)"
      ],
      "execution_count": 0,
      "outputs": []
    },
    {
      "cell_type": "code",
      "metadata": {
        "id": "fSNa13yWHPaC",
        "colab_type": "code",
        "colab": {}
      },
      "source": [
        "image_height, image_width, _ = sample_image.shape\n",
        "img = cv2.resize(sample_image, (IMAGE_HEIGHT, IMAGE_HEIGHT), 3)\n",
        "scaled = preprocess_input(np.array(img, dtype=np.float32))\n",
        "# scaled_exp = np.expand_dims(scaled, axis=1)\n",
        "# scaled_v = np.vectorize(scaled)\n",
        "\n",
        "bbox_pred = model.predict(x=np.array([img]))[0]\n",
        "\n",
        "\n",
        "\n",
        "x0 = ((bbox_pred[0]) * image_width / IMAGE_HEIGHT)\n",
        "# x0 = x0.astype(int)\n",
        "y0 = ((bbox_pred[1]) * image_height / IMAGE_HEIGHT)\n",
        "# y0 = y0.astype(int)\n",
        "x1 = ((bbox_pred[2]) * image_width / IMAGE_HEIGHT)\n",
        "# x1 = x1.astype(int)\n",
        "y1 = ((bbox_pred[3]) * image_height / IMAGE_HEIGHT)\n",
        "# y1 = y1.astype(int)"
      ],
      "execution_count": 0,
      "outputs": []
    },
    {
      "cell_type": "code",
      "metadata": {
        "id": "GwpnFGxAHVi-",
        "colab_type": "code",
        "colab": {}
      },
      "source": [
        "pyplot.imshow(bbox_pred)"
      ],
      "execution_count": 0,
      "outputs": []
    },
    {
      "cell_type": "code",
      "metadata": {
        "id": "offMX6-uHbhh",
        "colab_type": "code",
        "colab": {}
      },
      "source": [
        "unscaled = X_train[n]\n",
        "\n",
        "image = cv2.resize(unscaled, (IMAGE_WIDTH, IMAGE_HEIGHT),3)\n",
        "\n",
        "feat_scaled = preprocess_input(np.array(unscaled, dtype=np.float32))\n",
        "\n",
        "pred_mask = cv2.resize(1.0*(model.predict(x=np.array([image]))[0] > 0.5), (IMAGE_WIDTH,IMAGE_HEIGHT))\n",
        "\n",
        "image2 = image\n",
        "image2[:,:,0] = pred_mask*image[:,:,0]\n",
        "image2[:,:,1] = pred_mask*image[:,:,1]\n",
        "image2[:,:,2] = pred_mask*image[:,:,2]\n",
        "\n",
        "out_image = image2\n",
        "\n",
        "pyplot.imshow(out_image)\n",
        "# cv2.imshow(\"Predicted Mask\", out_image)\n",
        "cv2.waitKey(0)\n",
        "cv2.destroyAllWindows()"
      ],
      "execution_count": 0,
      "outputs": []
    },
    {
      "cell_type": "markdown",
      "metadata": {
        "id": "y3LhbbG7bpWi",
        "colab_type": "text"
      },
      "source": [
        "**Summary**\n",
        "\n",
        "\n",
        "1.   Data loaded from .npy file.\n",
        "2.   Loaded the Mobilenet model, checked the layers\n",
        "3.   Added Unet layers along with few convolution layers after upsampling and concatenate\n",
        "4.   Defined Dice Coefficient and Loss functions\n",
        "5.   Compiled and fit the model. Before that created the model with trainable = True\n",
        "6.   Created the model from the generated weight files"
      ]
    }
  ]
}